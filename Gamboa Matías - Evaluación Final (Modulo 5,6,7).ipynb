{
 "cells": [
  {
   "cell_type": "markdown",
   "id": "269e28f2-f4ac-4e19-b63e-ef2953b410f5",
   "metadata": {
    "toc-hr-collapsed": true
   },
   "source": [
    "## Caso HESPE\n",
    "### Contexto del Problema\n",
    "Usted ha sido contratado como parte de un equipo de análisis del rendimiento de estudiantes en \n",
    "la facultad de ingeniería y de ciencias de la universidad de Wisconsin, para participar en el \n",
    "proyecto HESPE (Higher Education Student Performance Evaluation). Deberá, por lo tanto, poner a \n",
    "prueba todas las habilidades y conocimientos adquiridos a lo largo de este curso. \n",
    "Su primer desafío consiste en predecir el resultado de los estudiantes al momento de cursar una \n",
    "asignatura en la universidad. Para esto, se ha construido un set de datos con 32 características, en \n",
    "donde las 10 primeras de ellas corresponden a información personal, de la 11 a la 16 \n",
    "corresponden a preguntas familiares, y el resto corresponde a hábitos de estudio. Se recolectaron \n",
    "145 instancias para este estudio, que fue llevado a cabo durante 2019. Cada instancia corresponde \n",
    "a lo contestado por un estudiante en una encuesta.\n",
    "\n",
    "A continuación, se describe el set de datos:\n",
    "1. student_id\n",
    "2. age - Student Age (1: 18-21, 2: 22-25, 3: above 26)\n",
    "3. sex - Sex (1: female, 2: male)\n",
    "4. graduated_h_school_type - Graduated high-school type: (1: private, 2: state, 3: other)\n",
    "5. scholarship_type - Scholarship type: (1: None, 2: 25%, 3: 50%, 4: 75%, 5: Full)\n",
    "6. additional_work - Additional work: (1: Yes, 2: No)\n",
    "7. activity -Regular artistic or sports activity: (1: Yes, 2: No)\n",
    "8. partner - Do you have a partner: (1: Yes, 2: No)\n",
    "9. total_salary - Total salary if available (1: USD 135-200, 2: USD 201-270, 3: USD 271-340, 4: \n",
    "USD 341-410, 5: above 410)\n",
    "10. transport - Transportation to the university: (1: Bus, 2: Private car/taxi, 3: bicycle, 4: Other)\n",
    "11. accomodation - Accommodation type in Cyprus: (1: rental, 2: dormitory, 3: with family, 4: \n",
    "Other)\n",
    "12. mother_ed - Mother's education: (1: primary school, 2: secondary school, 3: high school, \n",
    "4: university, 5: MSc., 6: Ph.D.)\n",
    "13. farther_ed - Father's education: (1: primary school, 2: secondary school, 3: high school, 4: \n",
    "university, 5: MSc., 6: Ph.D.)\n",
    "14. siblings - Number of sisters/brothers (if available): (1: 1, 2:, 2, 3: 3, 4: 4, 5: 5 or above)\n",
    "15. parental_status - Parental status: (1: married, 2: divorced, 3: died - one of them or both)\n",
    "16. mother_occup - Mother's occupation: (1: retired, 2: housewife, 3: government officer, 4: \n",
    "private sector employee, 5: self-employment, 6: other)\n",
    "17. father_occup - Father's occupation: (1: retired, 2: government officer, 3: private sector \n",
    "employee, 4: self-employment, 5: other)\n",
    "18. weekly_study_hours - Weekly study hours: (1: None, 2: <5 hours, 3: 6-10 hours, 4: 11-20 \n",
    "hours, 5: more than 20 hours)\n",
    "19. reading_non_scientific - Reading frequency (non-scientific books/journals): (1: None, 2: \n",
    "Sometimes, 3: Often)\n",
    "Talento Digital / Kibernum / Ciencia de Datos / M05 – Supervised Learning\n",
    "20. reading_scientific - Reading frequency (scientific books/journals): (1: None, 2: Sometimes, \n",
    "3: Often)\n",
    "21. attendance_seminars_dep -Attendance to the seminars/conferences related to the \n",
    "department: (1: Yes, 2: No)\n",
    "22. impact_of_projects - Impact of your projects/activities on your success: (1: positive, 2: \n",
    "negative, 3: neutral)\n",
    "23. attendances_classes - Attendance to classes (1: always, 2: sometimes, 3: never)\n",
    "24. preparation_midterm_company - Preparation to midterm exams 1: (1: alone, 2: with \n",
    "friends, 3: not applicable)\n",
    "25. preparation_midterm_time - Preparation to midterm exams 2: (1: closest date to the \n",
    "exam, 2: regularly during the semester, 3: never)\n",
    "26. taking_notes - Taking notes in classes: (1: never, 2: sometimes, 3: always)\n",
    "27. listenning - Listening in classes: (1: never, 2: sometimes, 3: always)\n",
    "28. discussion_improves_interest - Discussion improves my interest and success in the course: \n",
    "(1: never, 2: sometimes, 3: always)\n",
    "29. flip_classrom - Flip-classroom: (1: not useful, 2: useful, 3: not applicable)\n",
    "30. grade_previous - Cumulative grade point average in the last semester (/4.00): (1: <2.00, 2: \n",
    "2.00-2.49, 3: 2.50-2.99, 4: 3.00-3.49, 5: above 3.49)\n",
    "31. grade_expected - Expected Cumulative grade point average in the graduation (/4.00): (1: \n",
    "<2.00, 2: 2.00-2.49, 3: 2.50-2.99, 4: 3.00-3.49, 5: above 3.49)\n",
    "32. course_id\n",
    "33. grade - OUTPUT Grade (0: Fail, 1: DD, 2: DC, 3: CC, 4: CB, 5: BB, 6: BA, 7: AA  \n",
    "  \n",
    "`El objetivo del proyecto es elaborar un modelo de aprendizaje de máquina que permita \n",
    "realizar predicciones sobre el resultado académico (variable “grade”)`"
   ]
  },
  {
   "cell_type": "markdown",
   "id": "0200aed7-6861-4d41-873d-d1553c378301",
   "metadata": {},
   "source": [
    "### Importar Librerías"
   ]
  },
  {
   "cell_type": "code",
   "execution_count": null,
   "id": "4a83e160-fb6e-4f43-8625-3f7a7921d5e9",
   "metadata": {
    "tags": []
   },
   "outputs": [],
   "source": [
    "import pandas as pd\n",
    "import numpy as np\n",
    "import matplotlib.pyplot as plt\n",
    "import seaborn as sns\n",
    "\n",
    "from sklearn.model_selection import train_test_split\n",
    "from sklearn.linear_model import LinearRegression\n",
    "from sklearn.metrics import mean_squared_error\n",
    "\n",
    "from sklearn.preprocessing import StandardScaler\n",
    "from sklearn.cluster import KMeans\n",
    "from sklearn.metrics import silhouette_score\n",
    "\n",
    "%matplotlib inline\n",
    "sns.set()"
   ]
  },
  {
   "cell_type": "markdown",
   "id": "4d1f7f9b-b0a3-4e52-9dcd-6d02a6af9ec5",
   "metadata": {},
   "source": [
    "### Ánalisis Exploratorio "
   ]
  },
  {
   "cell_type": "code",
   "execution_count": null,
   "id": "118970ad-6993-4517-b837-b8d071c1fd96",
   "metadata": {
    "tags": []
   },
   "outputs": [],
   "source": [
    "df=pd.read_csv('hespe-data.csv',delimiter=';')"
   ]
  },
  {
   "cell_type": "code",
   "execution_count": null,
   "id": "1760d8ee-104a-4dfe-b778-246a6f7de9c9",
   "metadata": {
    "tags": []
   },
   "outputs": [],
   "source": [
    "df"
   ]
  },
  {
   "cell_type": "code",
   "execution_count": null,
   "id": "624364fc-bcdf-4860-9220-77ebdf18e5c5",
   "metadata": {
    "tags": []
   },
   "outputs": [],
   "source": [
    "df.columns = ['student_id', 'age', 'sex', 'graduated_h_school_type', 'scholarship_type', 'additional_work', 'activity', 'partner', 'total_salary', 'transport', 'accomodation', 'mother_ed', 'farther_ed', 'siblings', 'parental_status', 'mother_occup', 'father_occup', 'weekly_study_hours', 'reading_non_scientific', 'reading_scientific', 'attendance_seminars_dep', 'impact_of_projects', 'attendances_classes', 'preparation_midterm_company', 'preparation_midterm_time', 'taking_notes', 'listenning', 'discussion_improves_interest', 'flip_classrom', 'grade_previous', 'grade_expected', 'course_id', 'grade']"
   ]
  },
  {
   "cell_type": "code",
   "execution_count": null,
   "id": "f3e47950-d3c9-4152-9fd4-c258e5dcc66b",
   "metadata": {
    "tags": []
   },
   "outputs": [],
   "source": [
    "df.head()"
   ]
  },
  {
   "cell_type": "code",
   "execution_count": null,
   "id": "33dee8db-1518-4d1f-b131-11331c080874",
   "metadata": {
    "tags": []
   },
   "outputs": [],
   "source": [
    "df.isnull().sum()"
   ]
  },
  {
   "cell_type": "code",
   "execution_count": null,
   "id": "c020658e-36a5-4437-af3f-bfdbeb337d3a",
   "metadata": {
    "tags": []
   },
   "outputs": [],
   "source": [
    "df.duplicated().sum()"
   ]
  },
  {
   "cell_type": "code",
   "execution_count": null,
   "id": "d8308a71-ea29-477d-a9b1-5b5d45abc550",
   "metadata": {
    "tags": []
   },
   "outputs": [],
   "source": [
    "df.groupby('grade').mean()"
   ]
  },
  {
   "cell_type": "code",
   "execution_count": null,
   "id": "4e880d28-71e8-4e92-95d6-489dd20914ef",
   "metadata": {
    "tags": []
   },
   "outputs": [],
   "source": [
    "df.info()"
   ]
  },
  {
   "cell_type": "code",
   "execution_count": null,
   "id": "459e7e24-a2cf-4e06-87cf-9c367504c8af",
   "metadata": {},
   "outputs": [],
   "source": [
    "df.T"
   ]
  },
  {
   "cell_type": "code",
   "execution_count": null,
   "id": "381748ed-3faa-4519-93b4-16d496939b28",
   "metadata": {
    "tags": []
   },
   "outputs": [],
   "source": [
    "df.shape"
   ]
  },
  {
   "cell_type": "code",
   "execution_count": null,
   "id": "74a0d91c-0e03-4209-9af1-5e1c6debd230",
   "metadata": {
    "tags": []
   },
   "outputs": [],
   "source": [
    "sns.countplot(x=\"grade\", hue=\"weekly_study_hours\", data=df)"
   ]
  },
  {
   "cell_type": "code",
   "execution_count": null,
   "id": "b2c939c7-4dba-4f9c-b466-18d8c2a7c9b3",
   "metadata": {
    "tags": []
   },
   "outputs": [],
   "source": [
    "df.describe()"
   ]
  },
  {
   "cell_type": "code",
   "execution_count": null,
   "id": "a8b618c8-df29-43ed-9ceb-86e85547e153",
   "metadata": {
    "tags": []
   },
   "outputs": [],
   "source": [
    "df['grade'].mean() "
   ]
  },
  {
   "cell_type": "code",
   "execution_count": null,
   "id": "3f0a22c8-a329-4410-8991-3c27cfa299f9",
   "metadata": {
    "tags": []
   },
   "outputs": [],
   "source": [
    "df['grade'].median() "
   ]
  },
  {
   "cell_type": "code",
   "execution_count": null,
   "id": "a9b4cfa9-94f1-4ff4-aabf-d9e2db2bf95b",
   "metadata": {
    "tags": []
   },
   "outputs": [],
   "source": [
    "df['grade'].value_counts()"
   ]
  },
  {
   "cell_type": "code",
   "execution_count": null,
   "id": "944372fc-5fc3-4683-9c0f-a718c3c3840e",
   "metadata": {
    "tags": []
   },
   "outputs": [],
   "source": [
    "df['grade'].plot(kind='hist', bins=20)"
   ]
  },
  {
   "cell_type": "markdown",
   "id": "245ca349-8473-42e7-a54b-467de725de39",
   "metadata": {},
   "source": [
    "Las personas con grado 1: DD representan la mayoría."
   ]
  },
  {
   "cell_type": "code",
   "execution_count": null,
   "id": "a58f2620-ea97-41dd-8d83-da73a1c53b4b",
   "metadata": {
    "tags": []
   },
   "outputs": [],
   "source": [
    "df['grade'].plot(kind='kde')"
   ]
  },
  {
   "cell_type": "markdown",
   "id": "f6bdcd73-281a-4ffa-8716-d2ef961d9722",
   "metadata": {},
   "source": [
    "### Analisis de Outliers 'Grade'"
   ]
  },
  {
   "cell_type": "code",
   "execution_count": null,
   "id": "8649a8ba-c584-4204-ba15-a2c40f93f79b",
   "metadata": {
    "tags": []
   },
   "outputs": [],
   "source": [
    "# Calculo de los Cuartiles\n",
    "q1 = df['grade'].quantile(q=.2)\n",
    "q2 = df['grade'].quantile(q=.4)\n",
    "q3 = df['grade'].quantile(q=.6)\n",
    "q4 = df['grade'].quantile(q=.8)\n",
    "\n",
    "#Calculo del rango intercuartil\n",
    "iqr = q3 - q1\n",
    "#Calculo del limite superior e inferior y outliers\n",
    "linf = max(q1 - 1.5*iqr, min(df['grade']))\n",
    "lsup = min(q3 + 1.5*iqr, max(df['grade']))\n",
    "outliers = df[(df['grade'] < linf) | (df['grade'] > lsup)]\n",
    "cantidad_outliers = len(outliers)\n",
    "\n",
    "#Imprime las variables calculadas\n",
    "print('IQR', iqr)\n",
    "print('LINF', linf)\n",
    "print('LSUP', lsup)\n",
    "print('Cant Outliers',cantidad_outliers)"
   ]
  },
  {
   "cell_type": "code",
   "execution_count": null,
   "id": "165cfb03-201a-4f07-955a-d4fd3334b8b8",
   "metadata": {
    "tags": []
   },
   "outputs": [],
   "source": [
    "outliers"
   ]
  },
  {
   "cell_type": "markdown",
   "id": "7196f1f3-b133-4c6e-8286-a65cec6a0825",
   "metadata": {},
   "source": [
    "Al observar el DataFrame la cantidad de Outliers son 17 los cuales corresponden a estudiantes con grade 7"
   ]
  },
  {
   "cell_type": "code",
   "execution_count": null,
   "id": "32abd0ca-a0d5-427c-b1ca-2566852bed3a",
   "metadata": {
    "tags": []
   },
   "outputs": [],
   "source": [
    "df['grade'].plot(kind='box')"
   ]
  },
  {
   "cell_type": "markdown",
   "id": "64e9b619-10c6-4d4b-8e69-f50b7587e01a",
   "metadata": {},
   "source": [
    "## DataWrangling"
   ]
  },
  {
   "cell_type": "markdown",
   "id": "f7b926ec-8686-4ef2-9d23-a1fcbd1ca460",
   "metadata": {},
   "source": [
    "Se realizarán transformaciones del DataFrame para utilizar etiquetas que ayudan a mejorar la legibilidad y comprensión de los datos. Estas transformaciones utilizarán funciones lambda para modificar los valores de ciertas columnas en el DataFrame.  \n",
    "\n",
    "Al cambiar valores numéricos en categorías más descriptivas, facilita el análisis y la interpretación de los datos, especialmente si se planea realizar cálculos, gráficos u otras operaciones basadas en estas categorías. Además, estas transformaciones podrían ser útiles para preparar los datos antes de aplicar algoritmos de aprendizaje automático, ya que algunos modelos pueden requerir que los datos estén en un formato específico para funcionar de manera efectiva."
   ]
  },
  {
   "cell_type": "code",
   "execution_count": null,
   "id": "3ba0750a-a390-403b-9092-e12b86a8cc23",
   "metadata": {},
   "outputs": [],
   "source": [
    "df['sex'] = df['sex'].apply(lambda x: 'female' if x == 1 else 'male')\n",
    "df['additional_work'] = df['additional_work'].apply(lambda x: 0 if x==2 else 1)\n",
    "df['activity'] = df['activity'].apply(lambda x: 0 if x==2 else 1)\n",
    "df['partner'] = df['partner'].apply(lambda x: 0 if x==2 else 1)\n",
    "df['attendance_seminars_dep'] = df['attendance_seminars_dep'].apply(lambda x: 0 if x==2 else 1)\n",
    "df['graduated_h_school_type'] = df['graduated_h_school_type'].apply(lambda x: 'private_hs' if x==1 else 'state_hs' if x==2 else 'other_hs')\n",
    "df['transport'] = df['transport'].apply(lambda x: 'bus' if x==1 else 'private_car_taxi' if x==2 else 'bicycle' if x==3 else 'other')\n",
    "df['accomodation'] = df['accomodation'].apply(lambda x: 'acc_rental' if x==1 else 'acc_dormitory' if x==2 else 'acc_with_family' if x==3 else 'acc_other')\n",
    "df['parental_status'] = df['parental_status'].apply(lambda x: 'parent_married' if x==1 else 'parent_divorced' if x==2 else 'parent_died' )\n",
    "df['mother_occup'] = df['mother_occup'].apply(lambda x: 'mom_retired' if x==1 else 'mom_housewife' if x==2 else 'mom_governmentofficer' if x==3 else 'mom_private_sector_employee' if x== 4 else 'mom_self_employment' if x==5 else 'mom_occup_other')\n",
    "df['father_occup'] = df['father_occup'].apply(lambda x: 'dad_retired' if x==1 else  'dad_governmentofficer' if x==2 else 'dad_private_sector_employee' if x== 3 else 'dad_self_employment' if x==4 else 'dad_occup_other')\n",
    "df['reading_non_scientific'] = df['reading_non_scientific'].apply(lambda x: 'non_r_nsci' if x==1 else 'sometime_r_nsci' if x==2 else 'often_r_nsci')\n",
    "df['reading_scientific'] = df['reading_scientific'].apply(lambda x: 'non_r_sci' if x==1 else 'sometime_r_sci' if x==2 else 'often_r_sci')\n",
    "df['impact_of_projects'] = df['impact_of_projects'].apply(lambda x: 'impact_proj_positive' if x==1 else 'impact_proj_negative' if x==2 else 'impact_proj_neutral')\n",
    "df['attendances_classes'] = df['attendances_classes'].apply(lambda x: 'attendance_classes_always' if x==1 else 'attendance_classes_sometimes' if x==2 else 'attendance_classes_never')\n",
    "df['preparation_midterm_company'] = df['preparation_midterm_company'].apply(lambda x: 'prep_midterm_comp_alone' if x==1 else 'prep_midterm_comp_w_friends' if x==2 else 'prep_midterm_comp_not_app')\n",
    "df['preparation_midterm_time'] = df['preparation_midterm_time'].apply(lambda x: 'prep_midterm_time_closest' if x==1 else 'prep_midterm_time_reg' if x==2 else 'prep_midterm_time_never')\n",
    "df['discussion_improves_interest'] = df['discussion_improves_interest'].apply(lambda x: 'disc_imp_int_never' if x==1 else 'disc_imp_int_sometimes' if x==2 else 'disc_imp_int_always')\n",
    "df['flip_classrom'] = df['flip_classrom'].apply(lambda x: 'flip_classrom_not_useful' if x==1 else 'flip_classrom_useful' if x==2 else 'flip_classrom_not_app')"
   ]
  },
  {
   "cell_type": "code",
   "execution_count": null,
   "id": "28976eef-e1e2-4fd9-bd06-e5fb7850dc15",
   "metadata": {},
   "outputs": [],
   "source": [
    "df['sex'] = pd.get_dummies(df['sex'],drop_first=True)\n",
    "df_ghs = pd.get_dummies(df['graduated_h_school_type'])\n",
    "df_transport = pd.get_dummies(df['transport'])\n",
    "df_accomodation = pd.get_dummies(df['accomodation'])\n",
    "df_parental_status = pd.get_dummies(df['parental_status'])\n",
    "df_mother_occup = pd.get_dummies(df['mother_occup'])\n",
    "df_father_occup = pd.get_dummies(df['father_occup'])\n",
    "df_reading_non_sci = pd.get_dummies(df['reading_non_scientific'])\n",
    "df_reading_sci = pd.get_dummies(df['reading_scientific'])\n",
    "df_impact_projects = pd.get_dummies(df['impact_of_projects'])\n",
    "df_attendances_classes = pd.get_dummies(df['attendances_classes'])\n",
    "df_preparation_midterm_company = pd.get_dummies(df['preparation_midterm_company'])\n",
    "df_prep_midterm_time = pd.get_dummies(df['preparation_midterm_time'])\n",
    "df_disc_imp_int = pd.get_dummies(df['discussion_improves_interest'])\n",
    "df_flip_classrom = pd.get_dummies(df['flip_classrom'])"
   ]
  },
  {
   "cell_type": "code",
   "execution_count": null,
   "id": "cc488fd8-7d53-4698-8cb8-d5c1ab76f1a8",
   "metadata": {},
   "outputs": [],
   "source": [
    "df = pd.concat([df, df_ghs], axis=1)\n",
    "df = pd.concat([df, df_transport], axis=1)\n",
    "df = pd.concat([df,df_accomodation], axis=1)\n",
    "df = pd.concat([df,df_parental_status], axis=1)\n",
    "df = pd.concat([df,df_mother_occup], axis=1)\n",
    "df = pd.concat([df,df_father_occup],axis=1)\n",
    "df = pd.concat([df,df_reading_non_sci],axis=1)\n",
    "df = pd.concat([df,df_reading_sci], axis=1)\n",
    "df = pd.concat([df,df_impact_projects], axis=1)\n",
    "df = pd.concat([df,df_attendances_classes], axis=1)\n",
    "df = pd.concat([df,df_preparation_midterm_company], axis=1)\n",
    "df = pd.concat([df,df_prep_midterm_time],axis=1)\n",
    "df = pd.concat([df,df_disc_imp_int],axis=1)\n",
    "df = pd.concat([df,df_flip_classrom], axis=1)"
   ]
  },
  {
   "cell_type": "code",
   "execution_count": null,
   "id": "52866b29-3b1d-4b71-9af2-81ddca5ea54a",
   "metadata": {},
   "outputs": [],
   "source": [
    "#Eliminamos las columnas innecarias y que ya no se utilizarán\n",
    "df.drop(columns='private_hs', inplace=True)\n",
    "df.drop(columns='graduated_h_school_type', inplace=True)\n",
    "df.drop(columns='student_id', inplace=True)\n",
    "df.drop(columns=['transport','bicycle'], inplace=True)\n",
    "df.drop(columns=['acc_other','accomodation'], inplace=True)\n",
    "df.drop(columns=['parental_status','parent_died'], inplace=True)\n",
    "df.drop(columns=['dad_occup_other','mom_self_employment', 'mother_occup','father_occup'],inplace=True)\n",
    "df.drop(columns=['non_r_sci','often_r_nsci','reading_scientific', 'reading_non_scientific'], inplace=True)\n",
    "df.drop(columns=['impact_proj_negative','impact_of_projects'],inplace=True)\n",
    "df.drop(columns=['attendance_classes_sometimes', 'attendances_classes'], inplace=True)\n",
    "df.drop(columns=['prep_midterm_comp_not_app','preparation_midterm_company'],inplace=True)\n",
    "df.drop(columns=['prep_midterm_time_never','preparation_midterm_time'],inplace=True)\n",
    "df.drop(columns=['disc_imp_int_never','discussion_improves_interest'],inplace=True)\n",
    "df.drop(columns=['flip_classrom_not_app','flip_classrom'], inplace=True)"
   ]
  },
  {
   "cell_type": "code",
   "execution_count": null,
   "id": "31e3c22b-7875-489a-a4a2-d5e1f21c9065",
   "metadata": {},
   "outputs": [],
   "source": [
    "#Renombrar columnas binarias\n",
    "df = df.rename(columns={'sex':'sex_male'})\n",
    "df = df.rename(columns={'other': 'other_transport'})"
   ]
  },
  {
   "cell_type": "code",
   "execution_count": null,
   "id": "a1efba1f-b9d4-4b45-8fe5-06621cc76a4e",
   "metadata": {
    "tags": []
   },
   "outputs": [],
   "source": [
    "df.head()"
   ]
  },
  {
   "cell_type": "code",
   "execution_count": null,
   "id": "77752c40-3adc-4c48-b053-3c99835fc167",
   "metadata": {},
   "outputs": [],
   "source": [
    "# Exportar archivo csv\n",
    "df.to_csv('clean_data.csv', index=False)"
   ]
  },
  {
   "cell_type": "code",
   "execution_count": null,
   "id": "bc5bb4e8-7093-4565-81e1-28d7132dc4f7",
   "metadata": {
    "tags": []
   },
   "outputs": [],
   "source": [
    "X = ['age', 'sex_male', 'scholarship_type', 'additional_work', 'activity',\n",
    "       'partner', 'total_salary', 'mother_ed', 'farther_ed', 'siblings',\n",
    "       'weekly_study_hours', 'attendance_seminars_dep', 'taking_notes',\n",
    "       'listenning', 'grade_previous', 'grade_expected', 'course_id',\n",
    "       'other_hs', 'state_hs', 'bus', 'other_transport', 'private_car_taxi',\n",
    "       'acc_dormitory', 'acc_rental', 'acc_with_family', 'parent_divorced',\n",
    "       'parent_married', 'mom_governmentofficer', 'mom_housewife',\n",
    "       'mom_private_sector_employee', 'mom_retired', 'dad_governmentofficer',\n",
    "       'dad_private_sector_employee', 'dad_retired', 'dad_self_employment',\n",
    "       'non_r_nsci', 'sometime_r_nsci', 'often_r_sci', 'sometime_r_sci',\n",
    "       'impact_proj_neutral', 'impact_proj_positive',\n",
    "       'attendance_classes_always', 'prep_midterm_comp_alone',\n",
    "       'prep_midterm_comp_w_friends', 'prep_midterm_time_closest',\n",
    "       'prep_midterm_time_reg', 'disc_imp_int_always',\n",
    "       'disc_imp_int_sometimes', 'flip_classrom_not_useful',\n",
    "       'flip_classrom_useful']"
   ]
  },
  {
   "cell_type": "code",
   "execution_count": null,
   "id": "77e8d1cd-c45a-4759-9355-e499dd496162",
   "metadata": {
    "tags": []
   },
   "outputs": [],
   "source": [
    "for columna in X:\n",
    "    sns.barplot(x=df[columna], y=df['grade'])\n",
    "    plt.xlabel(columna)\n",
    "    plt.ylabel('grade')\n",
    "    plt.title(f'grade vs {columna}')\n",
    "    plt.show()"
   ]
  },
  {
   "cell_type": "markdown",
   "id": "7e08d7d6-2316-4f1a-b182-2e4882f632cc",
   "metadata": {},
   "source": [
    "### Insights\n",
    "\n",
    "- Con el aumento de la edad, se observa una tendencia a tener calificaciones promedio más bajas, pero al mismo tiempo, la variabilidad en las calificaciones también tiende a ser mayor.\n",
    "\n",
    "- Los estudiantes que reciben una beca del 25% muestran un mejor rendimiento promedio en comparación con aquellos que reciben becas de mayor porcentaje. Sin embargo, la dispersión de las calificaciones es mayor en el grupo de estudiantes con becas del 25%.\n",
    "\n",
    "- Contrario a lo esperado, se observa que a medida que aumenta el número de hermanos que tiene un estudiante, sus calificaciones tienden a ser más altas en promedio, y también se nota una mayor amplitud entre las calificaciones mínimas y máximas.\n",
    "\n",
    "- La cantidad óptima de horas semanales de estudio parece estar en el rango de <5 horas, ya que los estudiantes que dedican este tiempo obtienen mejores resultados académicos en promedio.\n",
    "\n",
    "- Los estudiantes que toman notas durante las clases tienden a tener calificaciones considerablemente más altas que aquellos que no lo hacen.\n",
    "\n",
    "- La lectura de artículos, independientemente de si son científicos o no, parece tener un efecto positivo en el rendimiento académico de los estudiantes.\n",
    "\n",
    "- El impacto de los proyectos parece ser un indicador relevante para predecir el rendimiento académico, ya que aquellos estudiantes que participan en proyectos tienden a obtener mejores calificaciones en general."
   ]
  },
  {
   "cell_type": "markdown",
   "id": "a3741716-5ced-4bf2-b7ab-8111bccc944b",
   "metadata": {
    "tags": [],
    "toc-hr-collapsed": true
   },
   "source": [
    "# 1. Aprendizaje de máquina Supervisado"
   ]
  },
  {
   "cell_type": "code",
   "execution_count": null,
   "id": "22962ce6-7c5d-4be5-8671-5677edbf6bfc",
   "metadata": {},
   "outputs": [],
   "source": [
    "df_encoded = pd.read_csv('clean_data.csv') "
   ]
  },
  {
   "cell_type": "code",
   "execution_count": null,
   "id": "868041ae-bef9-42fd-a6b8-caf2c0d8c502",
   "metadata": {
    "tags": []
   },
   "outputs": [],
   "source": [
    "# Dividir el set de entrenamiento en Trainingg set y Test set\n",
    "from sklearn.model_selection import train_test_split"
   ]
  },
  {
   "cell_type": "code",
   "execution_count": null,
   "id": "5e04ffdf-6ec2-489a-8afd-69bf81d96dc1",
   "metadata": {},
   "outputs": [],
   "source": [
    "#y = df['grade'].astype('category')\n",
    "X = df_encoded.drop([ \"grade\"], axis=1)  # características\n",
    "y = df_encoded[\"grade\"]  # variable objetivo"
   ]
  },
  {
   "cell_type": "code",
   "execution_count": null,
   "id": "f6648136-adbe-4c08-8e04-624e622bb1b7",
   "metadata": {
    "tags": []
   },
   "outputs": [],
   "source": [
    "X"
   ]
  },
  {
   "cell_type": "code",
   "execution_count": null,
   "id": "d229df43-8d77-4fcc-bb3d-93da9f983df2",
   "metadata": {
    "tags": []
   },
   "outputs": [],
   "source": [
    "y"
   ]
  },
  {
   "cell_type": "code",
   "execution_count": null,
   "id": "89763396-1157-4805-8e1e-d2fc027d8aff",
   "metadata": {
    "tags": []
   },
   "outputs": [],
   "source": [
    "from tensorflow.keras.utils import to_categorical"
   ]
  },
  {
   "cell_type": "code",
   "execution_count": null,
   "id": "0b99d9df-a97e-4e18-8029-8361d0f34f20",
   "metadata": {
    "tags": []
   },
   "outputs": [],
   "source": [
    "y_dum=to_categorical(y)"
   ]
  },
  {
   "cell_type": "code",
   "execution_count": null,
   "id": "696c6285-09fc-4161-95ce-79326417077a",
   "metadata": {
    "tags": []
   },
   "outputs": [],
   "source": [
    "y_dum.shape"
   ]
  },
  {
   "cell_type": "markdown",
   "id": "f7a76480-a857-472a-a9b1-6e9554ae57ce",
   "metadata": {},
   "source": [
    "### Escalado de Datos"
   ]
  },
  {
   "cell_type": "code",
   "execution_count": null,
   "id": "9903e0e0-a36d-4a2f-826c-d95ca7d70b3e",
   "metadata": {
    "tags": []
   },
   "outputs": [],
   "source": [
    "# Escalar los datos\n",
    "scaler = StandardScaler()\n",
    "X_scaled = scaler.fit_transform(X)"
   ]
  },
  {
   "cell_type": "markdown",
   "id": "ead4ef30-2ca2-4e99-8f0a-1ed9ad1bb56b",
   "metadata": {},
   "source": [
    "### Balance de Datos"
   ]
  },
  {
   "cell_type": "code",
   "execution_count": null,
   "id": "4edc663c-b0b4-416c-af40-abeb353dc29b",
   "metadata": {
    "tags": []
   },
   "outputs": [],
   "source": [
    "from imblearn.over_sampling import SMOTE"
   ]
  },
  {
   "cell_type": "code",
   "execution_count": null,
   "id": "533f3f0d-1a15-4814-b88b-43e0e56d3fe7",
   "metadata": {},
   "outputs": [],
   "source": [
    "oversample=SMOTE()\n",
    "X_resampled,y_resampled=oversample.fit_resample(X_scaled,y)"
   ]
  },
  {
   "cell_type": "markdown",
   "id": "d2ec0d95-71bb-4340-821a-95b2a8f2c99a",
   "metadata": {},
   "source": [
    "### Validación Cruzada"
   ]
  },
  {
   "cell_type": "code",
   "execution_count": null,
   "id": "272cae69-ab18-4de9-be6f-4dc2988caff5",
   "metadata": {
    "tags": []
   },
   "outputs": [],
   "source": [
    "X_train, X_test, y_train, y_test = train_test_split(X_scaled, y, test_size=0.25, random_state=0)"
   ]
  },
  {
   "cell_type": "markdown",
   "id": "30b781f8-af37-4bb4-894f-d2c7955b74d8",
   "metadata": {
    "jp-MarkdownHeadingCollapsed": true,
    "tags": []
   },
   "source": [
    "## Regresión Logistica"
   ]
  },
  {
   "cell_type": "code",
   "execution_count": null,
   "id": "f37cfa23-1502-41f2-a7c1-a1f31c586b45",
   "metadata": {
    "tags": []
   },
   "outputs": [],
   "source": [
    "from sklearn.linear_model import LogisticRegression"
   ]
  },
  {
   "cell_type": "code",
   "execution_count": null,
   "id": "b6ff436f-4483-4921-a697-2e7fba8938a1",
   "metadata": {
    "tags": []
   },
   "outputs": [],
   "source": [
    "classifier = LogisticRegression(random_state=0,max_iter=1000)"
   ]
  },
  {
   "cell_type": "code",
   "execution_count": null,
   "id": "12ed078d-56a8-48d7-a9fc-6383a9d33b09",
   "metadata": {
    "tags": []
   },
   "outputs": [],
   "source": [
    "classifier.fit(X_train, y_train)"
   ]
  },
  {
   "cell_type": "code",
   "execution_count": null,
   "id": "7415e020-7f79-4e7d-8b0a-366538fb1467",
   "metadata": {
    "tags": []
   },
   "outputs": [],
   "source": [
    "y_pred = classifier.predict(X_test)"
   ]
  },
  {
   "cell_type": "code",
   "execution_count": null,
   "id": "551d94f4-d5a3-4df9-8d98-99f8a25fe8f4",
   "metadata": {
    "tags": []
   },
   "outputs": [],
   "source": [
    "y_pred"
   ]
  },
  {
   "cell_type": "code",
   "execution_count": null,
   "id": "0a129555-f7d7-49a8-ad5b-13adfe2638da",
   "metadata": {
    "tags": []
   },
   "outputs": [],
   "source": [
    "print(y_test)"
   ]
  },
  {
   "cell_type": "code",
   "execution_count": null,
   "id": "4d9a5dbe-87b7-4cf6-b4a1-17e9768fb002",
   "metadata": {
    "tags": []
   },
   "outputs": [],
   "source": [
    "type(y_test)"
   ]
  },
  {
   "cell_type": "code",
   "execution_count": null,
   "id": "e5d8a475-0686-4588-baba-be53f6ac7259",
   "metadata": {
    "tags": []
   },
   "outputs": [],
   "source": [
    "from sklearn.metrics import confusion_matrix, accuracy_score, classification_report"
   ]
  },
  {
   "cell_type": "code",
   "execution_count": null,
   "id": "a4e1a251-80a0-49cc-8b36-b7b4364e3653",
   "metadata": {
    "tags": []
   },
   "outputs": [],
   "source": [
    "print( confusion_matrix(y_test, y_pred) )"
   ]
  },
  {
   "cell_type": "code",
   "execution_count": null,
   "id": "71bbf777-18f3-4442-bc9c-4415e28ead1d",
   "metadata": {
    "tags": []
   },
   "outputs": [],
   "source": [
    "print(accuracy_score(y_test, y_pred))"
   ]
  },
  {
   "cell_type": "code",
   "execution_count": null,
   "id": "ddf8e9d2-60ce-4f9f-9ed9-4be88b95217c",
   "metadata": {
    "tags": []
   },
   "outputs": [],
   "source": [
    "print(classification_report(y_test, y_pred))"
   ]
  },
  {
   "cell_type": "markdown",
   "id": "26d05648-eb97-4888-b288-16ea8805b652",
   "metadata": {
    "jp-MarkdownHeadingCollapsed": true,
    "tags": []
   },
   "source": [
    "## Random Forest"
   ]
  },
  {
   "cell_type": "code",
   "execution_count": null,
   "id": "944bf9ea-8411-4529-86b0-387e06bd4c5d",
   "metadata": {
    "tags": []
   },
   "outputs": [],
   "source": [
    "from sklearn.ensemble import RandomForestClassifier"
   ]
  },
  {
   "cell_type": "code",
   "execution_count": null,
   "id": "1366a5f2-8268-4e78-b63d-6d4c330d3a47",
   "metadata": {
    "tags": []
   },
   "outputs": [],
   "source": [
    "rfc=RandomForestClassifier(n_estimators=100, random_state=0)\n",
    "rfc.fit(X_train,y_train)"
   ]
  },
  {
   "cell_type": "markdown",
   "id": "f87b8a1d-9473-4bbf-a882-12b3d4d11960",
   "metadata": {},
   "source": [
    "### Evaluación del Modelo RF"
   ]
  },
  {
   "cell_type": "code",
   "execution_count": null,
   "id": "eb7b7555-7d71-45a8-845d-eb53b5389c8f",
   "metadata": {
    "tags": []
   },
   "outputs": [],
   "source": [
    "y_pred = rfc.predict(X_test)"
   ]
  },
  {
   "cell_type": "code",
   "execution_count": null,
   "id": "71a23c72-6280-48be-835c-841042028a3f",
   "metadata": {
    "tags": []
   },
   "outputs": [],
   "source": [
    "accuracy_score(y_test,y_pred)"
   ]
  },
  {
   "cell_type": "code",
   "execution_count": null,
   "id": "10aa572f-72fc-420a-8dd6-cf83f873c0e8",
   "metadata": {
    "tags": []
   },
   "outputs": [],
   "source": [
    "rfc.score(X_test,y_test)"
   ]
  },
  {
   "cell_type": "code",
   "execution_count": null,
   "id": "211b0221-0f76-4ae5-bd09-c0bbf1b6d706",
   "metadata": {
    "tags": []
   },
   "outputs": [],
   "source": [
    "confusion_matrix(y_test,y_pred)"
   ]
  },
  {
   "cell_type": "code",
   "execution_count": null,
   "id": "7403768e-b005-480e-891f-0d5cfaae8279",
   "metadata": {
    "tags": []
   },
   "outputs": [],
   "source": [
    "print(classification_report(y_test,y_pred))"
   ]
  },
  {
   "cell_type": "markdown",
   "id": "911b9554-9903-41e7-a740-17ed1d962368",
   "metadata": {},
   "source": [
    "Aplicando el Algoritmo Random Forest nuestro accuracy es mayor al aplicado con Regresión Logistica "
   ]
  },
  {
   "cell_type": "markdown",
   "id": "43ed383d-148d-4e24-9533-ad80147117af",
   "metadata": {
    "jp-MarkdownHeadingCollapsed": true,
    "tags": []
   },
   "source": [
    "## Modelo Decision Tree\n"
   ]
  },
  {
   "cell_type": "code",
   "execution_count": null,
   "id": "51f775db-d778-4420-8e53-480b65b4bed3",
   "metadata": {
    "tags": []
   },
   "outputs": [],
   "source": [
    "from sklearn.tree import DecisionTreeClassifier"
   ]
  },
  {
   "cell_type": "code",
   "execution_count": null,
   "id": "51ec5c4e-d3b1-4f0b-9a0d-4c248496da33",
   "metadata": {
    "tags": []
   },
   "outputs": [],
   "source": [
    "clf = DecisionTreeClassifier(max_depth=2,random_state=0)"
   ]
  },
  {
   "cell_type": "code",
   "execution_count": null,
   "id": "4a2285a8-79cc-4acd-97ca-f688f63d4276",
   "metadata": {
    "tags": []
   },
   "outputs": [],
   "source": [
    "clf.fit(X_train, y_train)"
   ]
  },
  {
   "cell_type": "code",
   "execution_count": null,
   "id": "831e0af1-7256-4208-9b09-c1f769b15f69",
   "metadata": {
    "tags": []
   },
   "outputs": [],
   "source": [
    "from sklearn.tree import plot_tree"
   ]
  },
  {
   "cell_type": "code",
   "execution_count": null,
   "id": "524014f9-d16f-4f11-88b2-32bf94c777ff",
   "metadata": {
    "tags": []
   },
   "outputs": [],
   "source": [
    "plt.figure(figsize=(12,6))\n",
    "plot_tree(clf,feature_names=X.columns,filled=True)\n",
    "plt.show"
   ]
  },
  {
   "cell_type": "code",
   "execution_count": null,
   "id": "94617f92-c497-499f-a203-3d13c0dff84c",
   "metadata": {
    "tags": []
   },
   "outputs": [],
   "source": [
    "y_pred = clf.predict(X_test)"
   ]
  },
  {
   "cell_type": "code",
   "execution_count": null,
   "id": "4f7e6b50-e7f2-457d-aa29-f6af1fd1f196",
   "metadata": {
    "tags": []
   },
   "outputs": [],
   "source": [
    "accuracy_score(y_test,y_pred)"
   ]
  },
  {
   "cell_type": "code",
   "execution_count": null,
   "id": "7e4f60ea-5caa-4ea2-a504-2850474aa417",
   "metadata": {
    "tags": []
   },
   "outputs": [],
   "source": [
    "clf.score(X_test,y_test)"
   ]
  },
  {
   "cell_type": "code",
   "execution_count": null,
   "id": "0d175222-325a-470e-8b58-20ecc5e28abd",
   "metadata": {
    "tags": []
   },
   "outputs": [],
   "source": [
    "confusion_matrix(y_test,y_pred)"
   ]
  },
  {
   "cell_type": "code",
   "execution_count": null,
   "id": "96debb67-e49e-48b4-b3d1-c79d0008c3ec",
   "metadata": {
    "tags": []
   },
   "outputs": [],
   "source": [
    "print(classification_report(y_test,y_pred))"
   ]
  },
  {
   "cell_type": "markdown",
   "id": "e0ec222f-8930-404f-9cfc-37070a2f5e00",
   "metadata": {
    "jp-MarkdownHeadingCollapsed": true,
    "tags": []
   },
   "source": [
    "## Modelo KNN"
   ]
  },
  {
   "cell_type": "code",
   "execution_count": null,
   "id": "6f1dc905-18f9-44e7-91e1-185b983059d8",
   "metadata": {
    "tags": []
   },
   "outputs": [],
   "source": [
    "from sklearn.neighbors import KNeighborsClassifier"
   ]
  },
  {
   "cell_type": "code",
   "execution_count": null,
   "id": "67c1f6ec-f3ff-4f73-aa72-e07fc02b1b72",
   "metadata": {
    "tags": []
   },
   "outputs": [],
   "source": [
    "knn=KNeighborsClassifier()\n",
    "knn.fit(X_train,y_train)"
   ]
  },
  {
   "cell_type": "code",
   "execution_count": null,
   "id": "96b8c9fc-ca0a-4156-9661-2dbdcc5ff718",
   "metadata": {
    "tags": []
   },
   "outputs": [],
   "source": [
    "y_pred=knn.predict(X_test)"
   ]
  },
  {
   "cell_type": "code",
   "execution_count": null,
   "id": "103ac5af-f9a0-42c6-be76-4c161598791b",
   "metadata": {
    "tags": []
   },
   "outputs": [],
   "source": [
    "from sklearn.metrics import confusion_matrix,accuracy_score"
   ]
  },
  {
   "cell_type": "code",
   "execution_count": null,
   "id": "34f630ba-004a-43ce-8f28-c5494b6f097d",
   "metadata": {
    "tags": []
   },
   "outputs": [],
   "source": [
    "accuracy_score(y_test,y_pred)"
   ]
  },
  {
   "cell_type": "code",
   "execution_count": null,
   "id": "28951318-f00d-4bf6-9c76-73c2adb53953",
   "metadata": {
    "tags": []
   },
   "outputs": [],
   "source": [
    "print(confusion_matrix(y_test,y_pred))"
   ]
  },
  {
   "cell_type": "markdown",
   "id": "b706ec99-096b-4660-8db1-319d898dd161",
   "metadata": {
    "jp-MarkdownHeadingCollapsed": true,
    "tags": []
   },
   "source": [
    "## Modelo SVM Lineal"
   ]
  },
  {
   "cell_type": "code",
   "execution_count": null,
   "id": "cb9fe76a-deb0-4cd6-bf22-2627ab4c8ef6",
   "metadata": {
    "tags": []
   },
   "outputs": [],
   "source": [
    "from sklearn.svm import SVC"
   ]
  },
  {
   "cell_type": "code",
   "execution_count": null,
   "id": "1397fd08-940b-4f7e-a36d-09015c2e5139",
   "metadata": {
    "tags": []
   },
   "outputs": [],
   "source": [
    "classifier=SVC(kernel='linear',random_state=0)\n",
    "classifier.fit(X_train,y_train)"
   ]
  },
  {
   "cell_type": "markdown",
   "id": "a0334ef8-9541-4fd4-bb8e-145b519c74c6",
   "metadata": {},
   "source": [
    "#### Métricas de Evaluación"
   ]
  },
  {
   "cell_type": "code",
   "execution_count": null,
   "id": "75062d93-3f2d-4cae-a834-05af59e6e0fd",
   "metadata": {},
   "outputs": [],
   "source": [
    "from sklearn.metrics import confusion_matrix, accuracy_score"
   ]
  },
  {
   "cell_type": "code",
   "execution_count": null,
   "id": "5c8dfc32-435d-4673-897e-4cc57c4c9156",
   "metadata": {
    "tags": []
   },
   "outputs": [],
   "source": [
    "y_pred=classifier.predict(X_test)"
   ]
  },
  {
   "cell_type": "code",
   "execution_count": null,
   "id": "821acf2f-1009-4945-bf19-5afb56611b2a",
   "metadata": {
    "tags": []
   },
   "outputs": [],
   "source": [
    "accuracy_score(y_test,y_pred)"
   ]
  },
  {
   "cell_type": "code",
   "execution_count": null,
   "id": "24335e07-f344-4275-b6d7-fa1a4b069305",
   "metadata": {
    "tags": []
   },
   "outputs": [],
   "source": [
    "confusion_matrix(y_test,y_pred)"
   ]
  },
  {
   "cell_type": "markdown",
   "id": "db7cda3a-3a93-40b4-8e8f-a00414d15613",
   "metadata": {
    "jp-MarkdownHeadingCollapsed": true,
    "tags": []
   },
   "source": [
    "## Modelo SVM Kernel RGF"
   ]
  },
  {
   "cell_type": "code",
   "execution_count": null,
   "id": "cc4504ef-cb5b-4b8b-a715-1d0d657d4a9f",
   "metadata": {
    "tags": []
   },
   "outputs": [],
   "source": [
    "classifier=SVC(kernel='rbf',random_state=0)\n",
    "classifier.fit(X_train,y_train)"
   ]
  },
  {
   "cell_type": "code",
   "execution_count": null,
   "id": "fd42b2a2-ec51-449e-8400-6653b22763a6",
   "metadata": {
    "tags": []
   },
   "outputs": [],
   "source": [
    "y_pred=classifier.predict(X_test)"
   ]
  },
  {
   "cell_type": "code",
   "execution_count": null,
   "id": "30ce7755-6343-426e-a807-239a0b4b69b6",
   "metadata": {
    "tags": []
   },
   "outputs": [],
   "source": [
    "accuracy_score(y_test,y_pred)"
   ]
  },
  {
   "cell_type": "code",
   "execution_count": null,
   "id": "f78badda-d373-4278-b9ca-41fac1a7c1bd",
   "metadata": {
    "tags": []
   },
   "outputs": [],
   "source": [
    "confusion_matrix(y_test,y_pred)"
   ]
  },
  {
   "cell_type": "markdown",
   "id": "d5d66369-4132-4379-aac6-d2a9c4991eed",
   "metadata": {
    "jp-MarkdownHeadingCollapsed": true,
    "tags": []
   },
   "source": [
    "## Modelo ADABOOST\n"
   ]
  },
  {
   "cell_type": "code",
   "execution_count": null,
   "id": "6ed408d3-064f-4b35-a015-887cd13f5438",
   "metadata": {
    "tags": []
   },
   "outputs": [],
   "source": [
    "from sklearn.ensemble import AdaBoostClassifier"
   ]
  },
  {
   "cell_type": "code",
   "execution_count": null,
   "id": "6fd5a30f-b197-4920-aae6-1774c7ad5d26",
   "metadata": {
    "tags": []
   },
   "outputs": [],
   "source": [
    "clf = AdaBoostClassifier(random_state=0)"
   ]
  },
  {
   "cell_type": "code",
   "execution_count": null,
   "id": "5335ed28-29cb-4311-a43a-68b247e316aa",
   "metadata": {
    "tags": []
   },
   "outputs": [],
   "source": [
    "clf.fit(X_train,y_train)"
   ]
  },
  {
   "cell_type": "code",
   "execution_count": null,
   "id": "b7248608-4aef-4230-8f97-219fa1c65b7c",
   "metadata": {
    "tags": []
   },
   "outputs": [],
   "source": [
    "clf.score(X_train,y_train)"
   ]
  },
  {
   "cell_type": "code",
   "execution_count": null,
   "id": "3f79aa43-6ab2-45e3-9296-dd6f05ae00f7",
   "metadata": {
    "tags": []
   },
   "outputs": [],
   "source": [
    "clf.score(X_test,y_test)"
   ]
  },
  {
   "cell_type": "code",
   "execution_count": null,
   "id": "ef1e24b4-9f29-4a8d-956a-afd109a83f06",
   "metadata": {
    "tags": []
   },
   "outputs": [],
   "source": [
    "y_pred=clf.predict(X_test)"
   ]
  },
  {
   "cell_type": "code",
   "execution_count": null,
   "id": "86688df3-83b0-4ecf-80ea-66f1c9669df8",
   "metadata": {
    "tags": []
   },
   "outputs": [],
   "source": [
    "accuracy_score(y_test,y_pred)"
   ]
  },
  {
   "cell_type": "markdown",
   "id": "13e52812-828d-42e0-b805-ef1c6f9525f6",
   "metadata": {},
   "source": [
    "### Hiperparametros\n"
   ]
  },
  {
   "cell_type": "code",
   "execution_count": null,
   "id": "021d36f8-959b-476a-9eb5-203d919a91cd",
   "metadata": {
    "tags": []
   },
   "outputs": [],
   "source": [
    "from sklearn.ensemble import RandomForestClassifier"
   ]
  },
  {
   "cell_type": "code",
   "execution_count": null,
   "id": "325a4a74-e5aa-4098-a296-a1fc2119b657",
   "metadata": {
    "tags": []
   },
   "outputs": [],
   "source": [
    "clf = AdaBoostClassifier(random_state = 0,\n",
    "                         base_estimator=RandomForestClassifier(),\n",
    "                         n_estimators=100,\n",
    "                         learning_rate=0.01)"
   ]
  },
  {
   "cell_type": "code",
   "execution_count": null,
   "id": "4e56449a-b1df-4b19-8fd6-9b1e5d93f153",
   "metadata": {
    "tags": []
   },
   "outputs": [],
   "source": [
    "clf.fit(X_train,y_train)"
   ]
  },
  {
   "cell_type": "code",
   "execution_count": null,
   "id": "2bc14bf5-22d7-40a6-a655-703bc1c9a2e2",
   "metadata": {
    "tags": []
   },
   "outputs": [],
   "source": [
    "# score en set de test\n",
    "clf.score(X_test,y_test)"
   ]
  },
  {
   "cell_type": "code",
   "execution_count": null,
   "id": "790bef64-4cff-4b40-b380-0113734071a8",
   "metadata": {
    "tags": []
   },
   "outputs": [],
   "source": [
    "y_pred=clf.predict(X_test)"
   ]
  },
  {
   "cell_type": "code",
   "execution_count": null,
   "id": "b6d7f2be-886a-4e5f-b379-71824c7c82bd",
   "metadata": {
    "tags": []
   },
   "outputs": [],
   "source": [
    "accuracy_score(y_test,y_pred)"
   ]
  },
  {
   "cell_type": "markdown",
   "id": "c0de44c6-3536-4798-831a-383ef3a309ef",
   "metadata": {
    "jp-MarkdownHeadingCollapsed": true,
    "tags": []
   },
   "source": [
    "## Modelo Bayesian\n"
   ]
  },
  {
   "cell_type": "code",
   "execution_count": null,
   "id": "147aefe4-2b86-4fb1-8c1a-ca237895a9fe",
   "metadata": {
    "tags": []
   },
   "outputs": [],
   "source": [
    "X_train, X_test, y_train, y_test = train_test_split(X, y, test_size=0.20, random_state=0)"
   ]
  },
  {
   "cell_type": "code",
   "execution_count": null,
   "id": "07505a44-82fb-42a1-8f36-a24e25401732",
   "metadata": {
    "tags": []
   },
   "outputs": [],
   "source": [
    "from sklearn.naive_bayes import GaussianNB"
   ]
  },
  {
   "cell_type": "code",
   "execution_count": null,
   "id": "6e667906-f3f0-4f45-b48f-184a8f192593",
   "metadata": {
    "tags": []
   },
   "outputs": [],
   "source": [
    "clf = GaussianNB()"
   ]
  },
  {
   "cell_type": "code",
   "execution_count": null,
   "id": "9e917c1a-7c36-4a66-8c64-ca8f9d884b93",
   "metadata": {
    "tags": []
   },
   "outputs": [],
   "source": [
    "clf.fit(X_train, y_train)"
   ]
  },
  {
   "cell_type": "code",
   "execution_count": null,
   "id": "18953f07-ee80-458a-a63c-75ccbbd808ec",
   "metadata": {
    "tags": []
   },
   "outputs": [],
   "source": [
    "from sklearn.metrics import confusion_matrix, accuracy_score,classification_report"
   ]
  },
  {
   "cell_type": "code",
   "execution_count": null,
   "id": "e62e14b3-7aa9-4770-98d0-17b161e95c8f",
   "metadata": {
    "tags": []
   },
   "outputs": [],
   "source": [
    "y_pred = clf.predict(X_test)"
   ]
  },
  {
   "cell_type": "code",
   "execution_count": null,
   "id": "c6b19063-f354-480c-8967-4282d704dc13",
   "metadata": {
    "tags": []
   },
   "outputs": [],
   "source": [
    "accuracy_score(y_test,y_pred)"
   ]
  },
  {
   "cell_type": "code",
   "execution_count": null,
   "id": "daa40830-0017-496c-85a9-887d287b236d",
   "metadata": {
    "tags": []
   },
   "outputs": [],
   "source": [
    "print(classification_report(y_test,y_pred))"
   ]
  },
  {
   "cell_type": "markdown",
   "id": "48be7e02-3f4e-4a98-907e-d94a048f30d5",
   "metadata": {
    "jp-MarkdownHeadingCollapsed": true,
    "tags": []
   },
   "source": [
    "## Modelo Gradient Boosting\n"
   ]
  },
  {
   "cell_type": "code",
   "execution_count": null,
   "id": "0ea8efce-291c-488a-b3b8-74bb07e737d4",
   "metadata": {
    "tags": []
   },
   "outputs": [],
   "source": [
    "from sklearn.ensemble import GradientBoostingClassifier"
   ]
  },
  {
   "cell_type": "code",
   "execution_count": null,
   "id": "7d53b376-f98d-4848-a300-3fbd6a8ff293",
   "metadata": {
    "tags": []
   },
   "outputs": [],
   "source": [
    "clf = GradientBoostingClassifier(random_state=0)"
   ]
  },
  {
   "cell_type": "code",
   "execution_count": null,
   "id": "9ecb7798-3a95-4b34-8004-9227a2b67323",
   "metadata": {
    "tags": []
   },
   "outputs": [],
   "source": [
    "clf.fit(X_train,y_train)"
   ]
  },
  {
   "cell_type": "code",
   "execution_count": null,
   "id": "053b0449-3ba5-4875-bffe-a45c7cb138b8",
   "metadata": {
    "tags": []
   },
   "outputs": [],
   "source": [
    "# score en set de entrenamiento\n",
    "clf.score(X_train,y_train)"
   ]
  },
  {
   "cell_type": "code",
   "execution_count": null,
   "id": "90a05535-ef45-4faa-89a7-13e9100125cc",
   "metadata": {
    "tags": []
   },
   "outputs": [],
   "source": [
    "# score en set de test\n",
    "clf.score(X_test,y_test)"
   ]
  },
  {
   "cell_type": "code",
   "execution_count": null,
   "id": "68eb6ebc-7218-48da-987a-d7d4fea0c388",
   "metadata": {
    "tags": []
   },
   "outputs": [],
   "source": [
    "clf = GradientBoostingClassifier(\n",
    "                random_state = 0,\n",
    "                n_estimators=150,\n",
    "                learning_rate=0.01,\n",
    "                max_depth=8,\n",
    "                subsample=0.75)"
   ]
  },
  {
   "cell_type": "code",
   "execution_count": null,
   "id": "ae12447c-8d43-48ea-8003-27b546430836",
   "metadata": {
    "tags": []
   },
   "outputs": [],
   "source": [
    "clf.fit(X_train,y_train)"
   ]
  },
  {
   "cell_type": "code",
   "execution_count": null,
   "id": "2d9f1ebf-8ab7-4a72-b0f0-b7ed1e4edf4a",
   "metadata": {
    "tags": []
   },
   "outputs": [],
   "source": [
    "# score en set de entrenamiento\n",
    "clf.score(X_train,y_train)"
   ]
  },
  {
   "cell_type": "code",
   "execution_count": null,
   "id": "db85ef65-cc5e-497e-809f-33e500b59db9",
   "metadata": {
    "tags": []
   },
   "outputs": [],
   "source": [
    "# score en set de test\n",
    "clf.score(X_test,y_test)"
   ]
  },
  {
   "cell_type": "code",
   "execution_count": null,
   "id": "c49764f0-3497-4d64-83cf-4275d834896f",
   "metadata": {
    "tags": []
   },
   "outputs": [],
   "source": [
    "y_pred = clf.predict(X_test)"
   ]
  },
  {
   "cell_type": "code",
   "execution_count": null,
   "id": "0c2122a6-8599-4951-8119-a37ea5fb1c21",
   "metadata": {
    "tags": []
   },
   "outputs": [],
   "source": [
    "accuracy_score(y_test,y_pred)"
   ]
  },
  {
   "cell_type": "markdown",
   "id": "67ec00e9-8f56-423b-b79d-d07053410a6f",
   "metadata": {
    "jp-MarkdownHeadingCollapsed": true,
    "tags": []
   },
   "source": [
    "## Modelo XGBOOST\n"
   ]
  },
  {
   "cell_type": "code",
   "execution_count": null,
   "id": "a8eebe9a-e3de-4bc9-97d2-90c2469862ab",
   "metadata": {
    "tags": []
   },
   "outputs": [],
   "source": [
    "from xgboost import XGBClassifier"
   ]
  },
  {
   "cell_type": "code",
   "execution_count": null,
   "id": "81a15517-ac54-4f11-9af4-6a254e95571e",
   "metadata": {
    "tags": []
   },
   "outputs": [],
   "source": [
    "clf = XGBClassifier()"
   ]
  },
  {
   "cell_type": "code",
   "execution_count": null,
   "id": "cf30ae81-259c-4998-a19c-d5833a35ed60",
   "metadata": {
    "tags": []
   },
   "outputs": [],
   "source": [
    "clf.fit(X_train,y_train)"
   ]
  },
  {
   "cell_type": "code",
   "execution_count": null,
   "id": "62eafb55-64e3-4be4-89cb-774e86c6b5ee",
   "metadata": {
    "tags": []
   },
   "outputs": [],
   "source": [
    "# score en set de entrenamiento\n",
    "clf.score(X_train,y_train)"
   ]
  },
  {
   "cell_type": "code",
   "execution_count": null,
   "id": "d767e4cd-b963-464d-876d-f02b3c6005ea",
   "metadata": {
    "tags": []
   },
   "outputs": [],
   "source": [
    "# score en set de test\n",
    "clf.score(X_test,y_test)"
   ]
  },
  {
   "cell_type": "code",
   "execution_count": null,
   "id": "51cc27b4-946a-490d-8177-397c079ca179",
   "metadata": {
    "tags": []
   },
   "outputs": [],
   "source": [
    "# Hiperparametros\n",
    "xgb = XGBClassifier(n_estimators=4, \n",
    "                    max_depth=10, \n",
    "                    learning_rate=0.01, \n",
    "                    colsample_bytree=0.8)"
   ]
  },
  {
   "cell_type": "code",
   "execution_count": null,
   "id": "77f48baf-ea1d-477c-a42a-1c2a8ff7b6e0",
   "metadata": {
    "tags": []
   },
   "outputs": [],
   "source": [
    "clf.fit(X_train,y_train)"
   ]
  },
  {
   "cell_type": "code",
   "execution_count": null,
   "id": "ffb1a747-2b59-4313-a6a3-5269c5a7bb83",
   "metadata": {
    "tags": []
   },
   "outputs": [],
   "source": [
    "# score en set de entrenamiento\n",
    "clf.score(X_train,y_train)"
   ]
  },
  {
   "cell_type": "code",
   "execution_count": null,
   "id": "c13082f5-5603-4f94-86a9-cd0caa114e85",
   "metadata": {
    "tags": []
   },
   "outputs": [],
   "source": [
    "# score en set de test\n",
    "clf.score(X_test,y_test)"
   ]
  },
  {
   "cell_type": "code",
   "execution_count": null,
   "id": "4397b192-915a-4a97-950c-6c26b5ce1d35",
   "metadata": {
    "tags": []
   },
   "outputs": [],
   "source": [
    "y_pred = clf.predict(X_test)"
   ]
  },
  {
   "cell_type": "code",
   "execution_count": null,
   "id": "c8c84665-57b1-45e6-94e6-ecdaf88e2a15",
   "metadata": {
    "tags": []
   },
   "outputs": [],
   "source": [
    "accuracy_score(y_test,y_pred)"
   ]
  },
  {
   "cell_type": "markdown",
   "id": "52fe2474-72c6-4f05-8b64-772944e18d1f",
   "metadata": {},
   "source": [
    "## Conclusiones Modelos Supervisados"
   ]
  },
  {
   "cell_type": "markdown",
   "id": "763dff50-bf56-45fe-a1c6-52d79351ed73",
   "metadata": {},
   "source": [
    "Dentro del Entrenamiento Supervisado para la variable grade,junto a sus features correspondientes, el modelo Decision Tree y Gradient Boosting, resultan ser los modelos con mejor accuracy_score de 0.3513 y 0.379 correspondientemente. Esto indica que los modelos tienen un rendimiento relativamente mejor en términos de predicción precisa en comparación con los otros modelos evaluados. El enfoque basado en el árbol de decision y el gradiente puede estar capturando mejor las relaciones entre los datos y logrando una mayor precisión en las predicciones."
   ]
  },
  {
   "cell_type": "markdown",
   "id": "d6757afd-3f4d-4fa0-bad0-7f1180709a24",
   "metadata": {},
   "source": [
    "## Optimización del Modelo"
   ]
  },
  {
   "cell_type": "markdown",
   "id": "7481f6e8-f933-4c15-aa8c-34b0243049a8",
   "metadata": {},
   "source": [
    "# 2. Aprendizaje de maquina No Supervisado  \n",
    "\n",
    "A continuación, se describe el set de datos:\n",
    "1. student_id\n",
    "\n",
    "12. mother_ed - Mother's education: (1: primary school, 2: secondary school, 3: high school, \n",
    "4: university, 5: MSc., 6: Ph.D.)\n",
    "13. farther_ed - Father's education: (1: primary school, 2: secondary school, 3: high school, 4: \n",
    "university, 5: MSc., 6: Ph.D.)\n",
    "14. siblings - Number of sisters/brothers (if available): (1: 1, 2:, 2, 3: 3, 4: 4, 5: 5 or above)\n",
    "15. parental_status - Parental status: (1: married, 2: divorced, 3: died - one of them or both)\n",
    "16. mother_occup - Mother's occupation: (1: retired, 2: housewife, 3: government officer, 4: \n",
    "private sector employee, 5: self-employment, 6: other)\n",
    "17. father_occup - Father's occupation: (1: retired, 2: government officer, 3: private sector \n",
    "employee, 4: self-employment, 5: other)\n",
    "\n",
    "Su obje?vo en este proyecto es distinguir grupos o categorías de estudiantes que \n",
    "presentan similaridad a nivel de caracterís?cas de familia. Por lo tanto, lo que se espera en \n",
    "su análisis es poder contestar al menos las siguientes preguntas:  \n",
    "\n",
    "- ¿Cuántos grupos con caracterís?cas homogéneas se aprecian en el set de datos?\n",
    "- De acuerdo a las características de cada grupo identificado, ¿qué nombre le pondría a cada uno de ellos a modo de categorización?\n",
    "- Dado los grupos que encontré utilice la variable grade, y determine si existe alguna relación entre el rendimiento de los estudiantes y su similaridad en caracterís?cas de familia"
   ]
  },
  {
   "cell_type": "code",
   "execution_count": null,
   "id": "e95a4472-ba81-4c91-aaa3-2f2d7d987616",
   "metadata": {
    "tags": []
   },
   "outputs": [],
   "source": [
    "X = df_encoded[['mother_ed','farther_ed','siblings','parent_married','parent_divorced','mom_retired','mom_housewife','mom_governmentofficer','mom_private_sector_employee','dad_retired','dad_governmentofficer','dad_private_sector_employee','dad_self_employment']]\n",
    "\n",
    "#'student_id'"
   ]
  },
  {
   "cell_type": "markdown",
   "id": "6d057a91-f201-433a-bafd-81dc6a186ebc",
   "metadata": {},
   "source": [
    "### Escalamiento"
   ]
  },
  {
   "cell_type": "code",
   "execution_count": null,
   "id": "2687179d-4f98-4bb4-89a2-3e3a0071f589",
   "metadata": {
    "tags": []
   },
   "outputs": [],
   "source": [
    "# Escalar los datos\n",
    "scaler = StandardScaler()\n",
    "X_scaled = scaler.fit_transform(X)"
   ]
  },
  {
   "cell_type": "code",
   "execution_count": null,
   "id": "19a748c1-73ad-49a8-be4b-2d0ddf72c40c",
   "metadata": {
    "tags": []
   },
   "outputs": [],
   "source": [
    "plt.figure(figsize=(10, 8))\n",
    "plt.scatter(X_scaled[:,0], X_scaled[:,1], c='b')\n",
    "plt.title('Datos de Ejemplo')"
   ]
  },
  {
   "cell_type": "markdown",
   "id": "e54aac63-8dca-401f-9c6d-7476865c686c",
   "metadata": {},
   "source": [
    "## Clusterización Jerarquica"
   ]
  },
  {
   "cell_type": "code",
   "execution_count": null,
   "id": "c3282391-0f88-48c8-92bc-1270fbcbae6f",
   "metadata": {
    "tags": []
   },
   "outputs": [],
   "source": [
    "from scipy.cluster.hierarchy import dendrogram,linkage"
   ]
  },
  {
   "cell_type": "code",
   "execution_count": null,
   "id": "1ae30fd7-c8c2-4251-931e-548338038efd",
   "metadata": {
    "tags": []
   },
   "outputs": [],
   "source": [
    "Z=linkage(X_scaled,method='ward')"
   ]
  },
  {
   "cell_type": "code",
   "execution_count": null,
   "id": "60727909-5a51-4217-9fbe-8fcea58e4281",
   "metadata": {
    "tags": []
   },
   "outputs": [],
   "source": [
    "from scipy.cluster.hierarchy import cophenet\n",
    "from scipy.spatial.distance import pdist\n",
    "c,coph_dists=cophenet(Z,pdist(X))"
   ]
  },
  {
   "cell_type": "code",
   "execution_count": null,
   "id": "7d80999c-84c1-4b37-83c5-479ad0d22266",
   "metadata": {
    "tags": []
   },
   "outputs": [],
   "source": [
    "Z[0]"
   ]
  },
  {
   "cell_type": "code",
   "execution_count": null,
   "id": "51d5fe40-7802-4a8f-a4e1-67cd9c1692cc",
   "metadata": {
    "tags": []
   },
   "outputs": [],
   "source": [
    "Z[1]"
   ]
  },
  {
   "cell_type": "code",
   "execution_count": null,
   "id": "051df1f9-6256-403f-8bab-bccc1a484811",
   "metadata": {
    "tags": []
   },
   "outputs": [],
   "source": [
    "Z[:20]"
   ]
  },
  {
   "cell_type": "code",
   "execution_count": null,
   "id": "91b1f5ef-3796-43a6-8726-ac95e6c28eb9",
   "metadata": {
    "tags": []
   },
   "outputs": [],
   "source": [
    "# Graficando los resultados\n",
    "plt.figure(figsize=(10,8))\n",
    "plt.scatter(X_scaled[:,0],X_scaled[:,1]) #GRAFICA TODOS LOS puntos\n",
    "plt.scatter(X_scaled[[111,138],0],X_scaled[[111,138],1],c='r')\n",
    "plt.scatter(X_scaled[21,0],X_scaled[21,1],c='y')\n",
    "plt.show"
   ]
  },
  {
   "cell_type": "code",
   "execution_count": null,
   "id": "ac5eb060-0540-484a-8ef2-ba12385e7ea3",
   "metadata": {
    "tags": []
   },
   "outputs": [],
   "source": [
    "# Gráfica de Dendograma\n",
    "plt.figure(figsize=(25,10))\n",
    "plt.title('Dendograma de Clustering Jerarquico')\n",
    "plt.xlabel('Indice de la muestra')\n",
    "plt.ylabel('Distancia')\n",
    "dendrogram(\n",
    "    Z,\n",
    "    leaf_rotation=90,\n",
    "    leaf_font_size=8.,\n",
    ")\n",
    "plt.show()"
   ]
  },
  {
   "cell_type": "code",
   "execution_count": null,
   "id": "bcfba97f-6f79-4486-bf3a-991a0d13c443",
   "metadata": {
    "tags": []
   },
   "outputs": [],
   "source": [
    "plt.figure(figsize=(25,10))\n",
    "plt.title('Dendograma de Clustering Jerarquico')\n",
    "plt.xlabel('Indice de la muestra')\n",
    "plt.ylabel('Distancia')\n",
    "dendrogram(\n",
    "    Z,\n",
    "    truncate_mode='lastp',\n",
    "    p=10,\n",
    "    show_leaf_counts=False,\n",
    "    show_contracted=True\n",
    ")\n",
    "plt.show()"
   ]
  },
  {
   "cell_type": "markdown",
   "id": "c8d640ac-f9b5-48e3-aec4-fc62653ffa5e",
   "metadata": {},
   "source": [
    "#### Seleccionar cantidad de clusters"
   ]
  },
  {
   "cell_type": "code",
   "execution_count": null,
   "id": "a0ad0135-1d0d-49f1-9436-fff0da7a10ee",
   "metadata": {
    "tags": []
   },
   "outputs": [],
   "source": [
    "max_d=12\n",
    "plt.figure(figsize=(25,10))\n",
    "plt.title('Dendograma de Clustering Jerarquico')\n",
    "plt.xlabel('Indice de la muestra')\n",
    "plt.ylabel('Distancia')\n",
    "dendrogram(\n",
    "    Z,\n",
    "    truncate_mode='lastp',\n",
    "    p=10,\n",
    "    show_leaf_counts=True\n",
    ")\n",
    "plt.axhline(y=max_d,c='k')\n",
    "plt.show()"
   ]
  },
  {
   "cell_type": "code",
   "execution_count": null,
   "id": "af65a0a7-063f-4b93-a106-e6c9e8d21961",
   "metadata": {
    "tags": []
   },
   "outputs": [],
   "source": [
    "from scipy.cluster.hierarchy import fcluster"
   ]
  },
  {
   "cell_type": "code",
   "execution_count": null,
   "id": "16aa3e34-f821-44fc-97cd-1def9c65ade8",
   "metadata": {
    "tags": []
   },
   "outputs": [],
   "source": [
    "clusters=fcluster(Z,max_d,criterion='distance')\n",
    "clusters"
   ]
  },
  {
   "cell_type": "code",
   "execution_count": null,
   "id": "585454bc-7c48-41ed-9374-a0bacfc68246",
   "metadata": {
    "tags": []
   },
   "outputs": [],
   "source": [
    "clusters=fcluster(Z,3,criterion='maxclust')\n",
    "clusters"
   ]
  },
  {
   "cell_type": "code",
   "execution_count": null,
   "id": "a6dff68d-2c7f-4c6c-a3db-74ab1c84c01a",
   "metadata": {
    "tags": []
   },
   "outputs": [],
   "source": [
    "plt.figure(figsize=(10,8))\n",
    "plt.scatter(X_scaled[:,0],X_scaled[:,1],c=clusters,cmap='coolwarm')"
   ]
  },
  {
   "cell_type": "markdown",
   "id": "2bafb095-b9e5-42f6-a66a-dcae56ebeec0",
   "metadata": {},
   "source": [
    "## K-means"
   ]
  },
  {
   "cell_type": "markdown",
   "id": "90b5ba1f-987e-4ea4-80d9-8ced0722a71a",
   "metadata": {},
   "source": [
    "### Metodo del Codo"
   ]
  },
  {
   "cell_type": "code",
   "execution_count": null,
   "id": "6cc73a93-6eba-4fb2-80e5-52b69c99bf62",
   "metadata": {
    "tags": []
   },
   "outputs": [],
   "source": [
    "wcss=[]\n",
    "for i in range(1,11):\n",
    "    kmeans=KMeans(n_clusters=i,init='k-means++',random_state=42)\n",
    "    kmeans.fit(X_scaled)\n",
    "    wcss.append(kmeans.inertia_)\n",
    "plt.plot(range(1,11),wcss)\n",
    "plt.title('The Elbow Method')\n",
    "plt.xlabel('Number of Clusters')\n",
    "plt.ylabel('Inercia')\n",
    "plt.show()"
   ]
  },
  {
   "cell_type": "markdown",
   "id": "2153b814-ef0b-4447-9c16-ae7fc14f2c48",
   "metadata": {},
   "source": [
    "### Determinando los clusters por metodo de la Silueta"
   ]
  },
  {
   "cell_type": "code",
   "execution_count": null,
   "id": "1e231b9b-7e81-44e9-a9fc-b2b7e3ee5649",
   "metadata": {
    "tags": []
   },
   "outputs": [],
   "source": [
    "savg=[]\n",
    "for i in range(2,11):\n",
    "    kmeans=KMeans(n_clusters=i,init='k-means++',random_state=42)\n",
    "    kmeans.fit(X_scaled)\n",
    "    silhouette_avg=silhouette_score(X_scaled,kmeans.labels_)\n",
    "    savg.append(silhouette_avg)\n",
    "\n",
    "plt.plot(range(2,11),savg)\n",
    "plt.title('The Silhouette Coefficients')\n",
    "plt.xlabel('Number of Clusters')\n",
    "plt.ylabel('Inercia')\n",
    "plt.show()"
   ]
  },
  {
   "cell_type": "code",
   "execution_count": null,
   "id": "5c79972b-9fbc-44b7-aaab-144842a36df8",
   "metadata": {
    "tags": []
   },
   "outputs": [],
   "source": [
    "# Aplicar el algoritmo K-Means con el número óptimo de clusters\n",
    "kmeans = KMeans(n_clusters=3, random_state=42)\n",
    "kmeans.fit(X_scaled)"
   ]
  },
  {
   "cell_type": "code",
   "execution_count": null,
   "id": "5ec25013-9fa5-4ef6-93af-8e8631e0872f",
   "metadata": {
    "tags": []
   },
   "outputs": [],
   "source": [
    "kmeans.cluster_centers_"
   ]
  },
  {
   "cell_type": "code",
   "execution_count": null,
   "id": "b43a58db-cb8e-4fac-96e3-b0825f2bcf68",
   "metadata": {
    "tags": []
   },
   "outputs": [],
   "source": [
    "kmeans.labels_"
   ]
  },
  {
   "cell_type": "code",
   "execution_count": null,
   "id": "6c86b41f-a12d-45bb-b04f-142112cf4cff",
   "metadata": {
    "tags": []
   },
   "outputs": [],
   "source": [
    "kmeans.inertia_"
   ]
  },
  {
   "cell_type": "markdown",
   "id": "da902f94-8ace-4a2a-a126-95f5ff4f74a6",
   "metadata": {},
   "source": [
    "### Análisis de Dimensionalidad"
   ]
  },
  {
   "cell_type": "code",
   "execution_count": null,
   "id": "9da0c20a-1ad6-4f6d-b4c5-0f8fb90c4aca",
   "metadata": {
    "tags": []
   },
   "outputs": [],
   "source": [
    "from sklearn.decomposition import PCA"
   ]
  },
  {
   "cell_type": "code",
   "execution_count": null,
   "id": "948effd7-6d89-4a9f-b26f-f953b85b5df5",
   "metadata": {
    "tags": []
   },
   "outputs": [],
   "source": [
    "pca = PCA().fit(X_scaled)\n"
   ]
  },
  {
   "cell_type": "code",
   "execution_count": null,
   "id": "a3d9cc9b-004b-4a60-a1a1-b376b0466414",
   "metadata": {
    "tags": []
   },
   "outputs": [],
   "source": [
    "pca.explained_variance_ratio_"
   ]
  },
  {
   "cell_type": "code",
   "execution_count": null,
   "id": "d59888fd-e07d-4ad8-858c-1a151dd6a166",
   "metadata": {
    "tags": []
   },
   "outputs": [],
   "source": [
    "np.cumsum(pca.explained_variance_ratio_)"
   ]
  },
  {
   "cell_type": "code",
   "execution_count": null,
   "id": "8dc13e72-f887-45b0-b1c0-677a22bbf951",
   "metadata": {
    "tags": []
   },
   "outputs": [],
   "source": [
    "plt.plot(range(1,len(pca.explained_variance_ratio_)+1), np.cumsum(pca.explained_variance_ratio_))\n",
    "plt.xlabel('Numero de componentes')\n",
    "plt.ylabel('Varianza Explicada Acumulada')\n",
    "plt.title('Varianza Explicada por Componentes Principales')\n",
    "plt.show()"
   ]
  },
  {
   "cell_type": "code",
   "execution_count": null,
   "id": "c271be7f-217d-45c5-92de-892e7c02a4b6",
   "metadata": {
    "tags": []
   },
   "outputs": [],
   "source": [
    "pca = PCA(n_components=2)\n",
    "pca.fit(X_scaled)\n",
    "x_pca = pca.transform(X_scaled)"
   ]
  },
  {
   "cell_type": "code",
   "execution_count": null,
   "id": "8b09f41d-4ae7-48e3-973d-34c31015c09b",
   "metadata": {
    "tags": []
   },
   "outputs": [],
   "source": [
    "import pandas as pd\n",
    "from sklearn.decomposition import PCA\n",
    "\n",
    "# Realiza el PCA con el número deseado de componentes (en este caso, 2)\n",
    "num_componentes = 2\n",
    "pca = PCA(n_components=num_componentes)\n",
    "componentes_principales = pca.fit_transform(df_encoded.drop([\"grade\"], axis=1))\n",
    "\n",
    "# Crea un DataFrame con los componentes principales y establece nombres de columna\n",
    "column_names = [f\"Componente {i+1}\" for i in range(num_componentes)]\n",
    "componentes = pd.DataFrame(data=componentes_principales, columns=column_names)\n",
    "\n",
    "# Ahora componentes es un DataFrame con 2 columnas: \"Componente 1\" y \"Componente 2\"\n",
    "print(componentes)\n"
   ]
  },
  {
   "cell_type": "code",
   "execution_count": null,
   "id": "28cfdb06-d2df-488b-bbef-66de6f2ee7f8",
   "metadata": {
    "tags": []
   },
   "outputs": [],
   "source": [
    "# Antes de aplicar la reducción de dimensionalidad\n",
    "X_scaled.shape"
   ]
  },
  {
   "cell_type": "code",
   "execution_count": null,
   "id": "4343a3c6-8bf2-4a48-9dbb-40446cf38c78",
   "metadata": {
    "tags": []
   },
   "outputs": [],
   "source": [
    "# Después de aplicar la reducción de dimensionalidad\n",
    "x_pca.shape"
   ]
  },
  {
   "cell_type": "code",
   "execution_count": null,
   "id": "73b8625f-ea34-43a3-a01a-6058fe4724a7",
   "metadata": {
    "tags": []
   },
   "outputs": [],
   "source": [
    "pd.DataFrame(x_pca,columns=['PC1','PC2'])"
   ]
  },
  {
   "cell_type": "code",
   "execution_count": null,
   "id": "cbba9f7a-0bef-42ca-9c8a-ceb35469779c",
   "metadata": {
    "tags": []
   },
   "outputs": [],
   "source": [
    "# Visualización de los datos con 2 Componentes\n",
    "plt.scatter(x_pca[:,0],x_pca[:,1])\n",
    "plt.xlabel('PC1')\n",
    "plt.ylabel('PC2')\n",
    "plt.title('Visualización de Datos con 2 Componenter Principales')\n",
    "plt.show()"
   ]
  },
  {
   "cell_type": "code",
   "execution_count": null,
   "id": "7178c75f-e208-4eb0-a37a-7b28221c1fd6",
   "metadata": {
    "tags": []
   },
   "outputs": [],
   "source": [
    "from sklearn.cluster import KMeans"
   ]
  },
  {
   "cell_type": "code",
   "execution_count": null,
   "id": "084f30fb-d5e6-4360-ac79-6ccb023e835f",
   "metadata": {
    "tags": []
   },
   "outputs": [],
   "source": [
    "# Método del Codo\n",
    "wcss = []\n",
    "for i in range(1, 11):\n",
    "    kmeans = KMeans(n_clusters = i, init = 'k-means++', random_state = 42)\n",
    "    kmeans.fit(x_pca)\n",
    "    wcss.append(kmeans.inertia_)\n",
    "plt.plot(range(1, 11), wcss)\n",
    "plt.title('Método del Codo')\n",
    "plt.xlabel('Número de clusters')\n",
    "plt.ylabel('Inercia')\n",
    "plt.show()"
   ]
  },
  {
   "cell_type": "code",
   "execution_count": null,
   "id": "1f1c6565-1f18-4022-9e84-320e3664390e",
   "metadata": {
    "tags": []
   },
   "outputs": [],
   "source": [
    "kmeans = KMeans(n_clusters=3)\n",
    "kmeans.fit(x_pca)"
   ]
  },
  {
   "cell_type": "code",
   "execution_count": null,
   "id": "340d81ff-e35f-4554-97d7-eec1d7db79fb",
   "metadata": {
    "tags": []
   },
   "outputs": [],
   "source": [
    "kmeans.cluster_centers_"
   ]
  },
  {
   "cell_type": "code",
   "execution_count": null,
   "id": "ffae18d6-83c2-43ec-9200-4298cd7ab954",
   "metadata": {
    "tags": []
   },
   "outputs": [],
   "source": [
    "kmeans.labels_"
   ]
  },
  {
   "cell_type": "code",
   "execution_count": null,
   "id": "74cbce25-53d5-4180-84b0-cb0abafb1ba0",
   "metadata": {
    "tags": []
   },
   "outputs": [],
   "source": [
    "clases = y\n",
    "clases"
   ]
  },
  {
   "cell_type": "code",
   "execution_count": null,
   "id": "b738888e-32b8-472f-a934-9beb6f6910a7",
   "metadata": {
    "tags": []
   },
   "outputs": [],
   "source": [
    "plt.figure(figsize=(12,5))\n",
    "plt.subplot(1,2,1)\n",
    "plt.title('Clusterización K-Means K=3')\n",
    "plt.xlabel('PC1')\n",
    "plt.ylabel('PC2')\n",
    "plt.scatter(x_pca[:,0],x_pca[:,1], c=kmeans.labels_)\n",
    "plt.scatter(kmeans.cluster_centers_[:,0],kmeans.cluster_centers_[:,1], c='g', marker='*', lw=3)\n"
   ]
  },
  {
   "cell_type": "markdown",
   "id": "ca51c188-b1d8-4084-b9b7-6a579716570e",
   "metadata": {},
   "source": [
    "### Clusterización con Gaussian Mixture"
   ]
  },
  {
   "cell_type": "code",
   "execution_count": null,
   "id": "f129f8de-0f05-448f-8f15-572e967cca71",
   "metadata": {
    "tags": []
   },
   "outputs": [],
   "source": [
    "from sklearn.mixture import GaussianMixture"
   ]
  },
  {
   "cell_type": "code",
   "execution_count": null,
   "id": "e4af313a-77f3-4132-ab14-b87517bb3c41",
   "metadata": {
    "tags": []
   },
   "outputs": [],
   "source": [
    "# now let's try GMM clustering, which tries to fit normally-distributed clusters, \n",
    "# and might be the case when measuring things like petal and sepal sizes...\n",
    "gmm = GaussianMixture(n_components=3)\n",
    "gmm.fit(x_pca)"
   ]
  },
  {
   "cell_type": "code",
   "execution_count": null,
   "id": "5881ef42-6f97-4ab3-887a-ac6920f29579",
   "metadata": {
    "tags": []
   },
   "outputs": [],
   "source": [
    "# predict the cluster for each data point\n",
    "y_cluster_gmm = gmm.predict(x_pca)\n",
    "y_cluster_gmm"
   ]
  },
  {
   "cell_type": "code",
   "execution_count": null,
   "id": "d1a753ea-25e2-4db3-b414-2dd626dc2984",
   "metadata": {
    "tags": []
   },
   "outputs": [],
   "source": [
    "plt.figure(figsize=(12,5))\n",
    "plt.subplot(1,2,1)\n",
    "plt.title('Clusterización K-Means K=3')\n",
    "plt.xlabel('PC1')\n",
    "plt.ylabel('PC2')\n",
    "plt.scatter(x_pca[:,0],x_pca[:,1], c=y_cluster_gmm)"
   ]
  },
  {
   "cell_type": "markdown",
   "id": "b8739cef-5c32-4185-bf0e-a308a3c20a22",
   "metadata": {},
   "source": [
    "## Conclusiones\n",
    "Respondiendo las preguntas: \n",
    "\n",
    "- ¿Cuántos grupos con caracterís?cas homogéneas se aprecian en el set de datos?\n",
    "\n",
    "Se puede apreciar según el metodo del codo y el metodo de la silueta, la cantidad de clusters óptima son 3. Lo que indica que existen 3 grupos con caracteristicas homogoneas dentro de los datos. \n",
    "\n",
    "- De acuerdo a las características de cada grupo identificado, ¿qué nombre le pondría a cada uno de ellos a modo de categorización?\n",
    "\n",
    "Tras realizar la reducción de dimensionalidad, y solo dejar el modelo con 2 componentes, se aprecia en el gráfico que los 3 grupos pueden corresponder a datos positivos, negativos y ambos.  Los grupos serian los siguientes:\n",
    "\n",
    "`Grupo 1: \"Educación Universitaria, Padres Casados, Ocupación del Sector Privado\"`\n",
    "\n",
    "Este grupo podría caracterizarse por tener estudiantes cuyas madres y padres tienen una educación universitaria (valor 4) o superior (MSc. o Ph.D.), están casados y trabajan en el sector privado (private sector employee). Podría representar un grupo de estudiantes con una fuerte influencia académica y una estabilidad familiar.\n",
    "\n",
    "`Grupo 2: \"Educación Secundaria, Padres Divorciados o Fallecidos, Ocupaciones Variadas\"`\n",
    "\n",
    "En este grupo, podríamos encontrar estudiantes cuyos padres tienen una educación secundaria (valor 2) y su estado marital es divorciado o uno de ellos falleció. Las ocupaciones de los padres pueden ser diversas, ya que no se especifica una categoría dominante. Este grupo puede representar una variedad de situaciones familiares y ocupacionales.\n",
    "\n",
    "`Grupo 3: \"Educación Primaria o sin Escolaridad, Ocupaciones Diversas\"`\n",
    "\n",
    "El tercer grupo podría estar compuesto por estudiantes cuyos padres tienen una educación primaria (valor 1) o no tienen escolaridad registrada. Las ocupaciones de los padres también pueden ser diversas, ya que se mencionan diferentes opciones. Este grupo puede reflejar una menor influencia académica en el hogar y una variedad de ocupaciones laborales.  \n",
    "\n",
    "\n"
   ]
  },
  {
   "cell_type": "markdown",
   "id": "016018e6-3e4c-47a0-b145-78c894beaa4d",
   "metadata": {},
   "source": [
    "# 3. Redes Neuronales "
   ]
  },
  {
   "cell_type": "markdown",
   "id": "e69542f5-7dc1-4895-8c25-991fb26cce68",
   "metadata": {},
   "source": [
    "### Diseño 1\n",
    "\n",
    "Diseño arquitectura ANN\n",
    "---\n",
    "Input vector (79 nodos) activacion 'linear'  \n",
    "Hidden Layer 1 (20 nodos) activacion 'linear'  \n",
    "Hidden Layer 2 (10 nodos) activacion 'linear'  \n",
    "Hidden Layer 3 (8 nodos) activacion 'softmax'  \n",
    "Optimizador sgd \n"
   ]
  },
  {
   "cell_type": "code",
   "execution_count": null,
   "id": "83248736-58ed-4aca-92a9-330b6cc31a7b",
   "metadata": {
    "tags": []
   },
   "outputs": [],
   "source": [
    "# Modelo \n",
    "X = df_encoded.drop([\"grade\"], axis=1)  # características\n",
    "y = df_encoded[\"grade\"]  # variable objetivo"
   ]
  },
  {
   "cell_type": "code",
   "execution_count": null,
   "id": "ca048960-79b4-4ea8-9977-9f768063187e",
   "metadata": {
    "tags": []
   },
   "outputs": [],
   "source": [
    "from tensorflow.keras.utils import to_categorical"
   ]
  },
  {
   "cell_type": "code",
   "execution_count": null,
   "id": "fec5fafc-04fd-4005-b5a1-ca8a0bab36e0",
   "metadata": {
    "tags": []
   },
   "outputs": [],
   "source": [
    "y_dum=to_categorical(y)"
   ]
  },
  {
   "cell_type": "code",
   "execution_count": null,
   "id": "204b7936-249c-4063-8894-b2a5d7a21d28",
   "metadata": {
    "tags": []
   },
   "outputs": [],
   "source": [
    "y_dum.shape"
   ]
  },
  {
   "cell_type": "code",
   "execution_count": null,
   "id": "d22c3606-d390-4a8b-9e52-bcca8de8d2ec",
   "metadata": {
    "tags": []
   },
   "outputs": [],
   "source": [
    "# Escalar los datos\n",
    "scaler = StandardScaler()\n",
    "X_scaled = scaler.fit_transform(X)"
   ]
  },
  {
   "cell_type": "code",
   "execution_count": null,
   "id": "17c8258c-44c1-4e7e-b1c3-1486f6a5d1c6",
   "metadata": {
    "tags": []
   },
   "outputs": [],
   "source": [
    "from imblearn.over_sampling import SMOTE"
   ]
  },
  {
   "cell_type": "code",
   "execution_count": null,
   "id": "5a8fc433-59a8-4f2f-ba57-07b54d3428e0",
   "metadata": {
    "tags": []
   },
   "outputs": [],
   "source": [
    "oversample=SMOTE()\n",
    "X_resampled,y_resampled=oversample.fit_resample(X_scaled,y_dum)"
   ]
  },
  {
   "cell_type": "code",
   "execution_count": null,
   "id": "48e6f463-703e-484f-a392-c7dc90ee571b",
   "metadata": {
    "tags": []
   },
   "outputs": [],
   "source": [
    "X_resampled.shape"
   ]
  },
  {
   "cell_type": "code",
   "execution_count": null,
   "id": "f57bed0f-3181-4513-aa1f-914e3d7156f4",
   "metadata": {
    "tags": []
   },
   "outputs": [],
   "source": [
    "y_resampled.shape"
   ]
  },
  {
   "cell_type": "code",
   "execution_count": null,
   "id": "1edd0eea-856d-4594-a5ec-0e8721fe96e4",
   "metadata": {
    "tags": []
   },
   "outputs": [],
   "source": [
    "from sklearn.model_selection import train_test_split"
   ]
  },
  {
   "cell_type": "code",
   "execution_count": null,
   "id": "89f041ef-4b2c-478e-8f97-3c9bdb59894c",
   "metadata": {
    "tags": []
   },
   "outputs": [],
   "source": [
    "X_train, X_test, y_train, y_test = train_test_split(X_resampled, y_resampled, test_size=0.33, random_state=42)"
   ]
  },
  {
   "cell_type": "code",
   "execution_count": null,
   "id": "55d5cbf0-ef55-49b1-94ad-5097d7ef9d56",
   "metadata": {
    "tags": []
   },
   "outputs": [],
   "source": [
    "from tensorflow.keras import Sequential\n",
    "from tensorflow.keras.layers import Dense, Input, Dropout, Flatten\n",
    "from tensorflow.keras.optimizers import SGD, Adam\n",
    "from tensorflow.keras.utils import plot_model\n"
   ]
  },
  {
   "cell_type": "code",
   "execution_count": null,
   "id": "02993f60-fd25-494e-8cc7-b752513e67ac",
   "metadata": {
    "tags": []
   },
   "outputs": [],
   "source": [
    "model = Sequential()\n",
    "model.add(Input(shape=(50,)))  \n",
    "model.add(Dense(20, activation='linear'))\n",
    "model.add(Dense(10, activation='linear'))\n",
    "model.add(Dense(8, activation='softmax'))\n",
    "model.compile(loss='categorical_crossentropy',\n",
    "              optimizer='sgd',\n",
    "              metrics=['accuracy'])\n",
    "model.summary()"
   ]
  },
  {
   "cell_type": "code",
   "execution_count": null,
   "id": "471517f3-8782-481d-b2c6-a850038aac36",
   "metadata": {
    "tags": []
   },
   "outputs": [],
   "source": [
    "history=model.fit(X_train,y_train,batch_size=128,epochs=60,validation_data=(X_test,y_test))"
   ]
  },
  {
   "cell_type": "markdown",
   "id": "b061b265-24f6-46f0-bacb-b34128d26ffe",
   "metadata": {},
   "source": [
    "## Evaluación"
   ]
  },
  {
   "cell_type": "code",
   "execution_count": null,
   "id": "d4ddaa2f-afcc-4e2a-83b6-5eec3dc1f5d4",
   "metadata": {
    "tags": []
   },
   "outputs": [],
   "source": [
    "from sklearn.metrics import accuracy_score"
   ]
  },
  {
   "cell_type": "code",
   "execution_count": null,
   "id": "5889306c-0ba0-4e8e-a287-233196a084c9",
   "metadata": {
    "tags": []
   },
   "outputs": [],
   "source": [
    "y_pred=model.predict(X_test)"
   ]
  },
  {
   "cell_type": "code",
   "execution_count": null,
   "id": "009fc2df-6813-4f6e-9842-3fd3b5b0555a",
   "metadata": {
    "tags": []
   },
   "outputs": [],
   "source": [
    "y_pred[:5]"
   ]
  },
  {
   "cell_type": "code",
   "execution_count": null,
   "id": "7d125d6a-3546-45c9-a4bd-d8dc9ac4c4e9",
   "metadata": {
    "tags": []
   },
   "outputs": [],
   "source": [
    "y_pred_clase=np.argmax(y_pred,axis=1)\n",
    "y_test_clase=np.argmax(y_test,axis=1)"
   ]
  },
  {
   "cell_type": "code",
   "execution_count": null,
   "id": "290b032d-a547-4587-acd9-65af1a8dd96d",
   "metadata": {
    "tags": []
   },
   "outputs": [],
   "source": [
    "y_pred_clase"
   ]
  },
  {
   "cell_type": "code",
   "execution_count": null,
   "id": "9179b240-5a3b-41ce-9728-676c72982775",
   "metadata": {
    "tags": []
   },
   "outputs": [],
   "source": [
    "y_test_clase"
   ]
  },
  {
   "cell_type": "code",
   "execution_count": null,
   "id": "1746eb50-55d2-44b7-a024-07a329315568",
   "metadata": {
    "tags": []
   },
   "outputs": [],
   "source": [
    "accuracy_score(y_test_clase,y_pred_clase)"
   ]
  },
  {
   "cell_type": "code",
   "execution_count": null,
   "id": "3c9a8703-1a4c-4ece-889a-82df8487cef3",
   "metadata": {
    "tags": []
   },
   "outputs": [],
   "source": [
    "#Evolucion del entrenamiento \n",
    "#history.history"
   ]
  },
  {
   "cell_type": "code",
   "execution_count": null,
   "id": "590358e6-f0e8-4dfa-a185-afccdff1ef5f",
   "metadata": {
    "tags": []
   },
   "outputs": [],
   "source": [
    "plt.subplot(2,1,1)\n",
    "plt.title('Train Set - Loss')\n",
    "plt.plot(history.history['loss'])\n",
    "\n",
    "plt.subplot(2,1,2)\n",
    "plt.title('Train Set - Accuracy')\n",
    "plt.plot(history.history['accuracy'])\n",
    "plt.tight_layout()"
   ]
  },
  {
   "cell_type": "code",
   "execution_count": null,
   "id": "21b0aa37-3179-4b3e-bdb4-d959b729419a",
   "metadata": {
    "tags": []
   },
   "outputs": [],
   "source": [
    "plt.subplot(2,1,1)\n",
    "plt.title('Validation Set - Loss')\n",
    "plt.plot(history.history['val_loss'])\n",
    "\n",
    "plt.subplot(2,1,2)\n",
    "plt.title('Validation Set - Accuracy')\n",
    "plt.plot(history.history['val_accuracy'])\n",
    "plt.tight_layout()"
   ]
  },
  {
   "cell_type": "markdown",
   "id": "f93f9a4d-66b8-44ea-8609-a48249fa2190",
   "metadata": {},
   "source": [
    "## Diseño 2"
   ]
  },
  {
   "cell_type": "markdown",
   "id": "0ebf7a17-01c2-46a2-8a83-a305ed37d4a5",
   "metadata": {},
   "source": [
    "#### Preprocesamiento de los datos"
   ]
  },
  {
   "cell_type": "code",
   "execution_count": null,
   "id": "d99582df-3c6a-4f3f-ac5a-a3eddee65a22",
   "metadata": {
    "tags": []
   },
   "outputs": [],
   "source": [
    "from sklearn.preprocessing import LabelEncoder"
   ]
  },
  {
   "cell_type": "code",
   "execution_count": null,
   "id": "3e443a24-f248-4e6c-af12-8c09e9caafed",
   "metadata": {
    "tags": []
   },
   "outputs": [],
   "source": [
    "encoder = LabelEncoder()\n",
    "y_enc = encoder.fit_transform(y)\n",
    "y_dum = pd.get_dummies(y_enc).values"
   ]
  },
  {
   "cell_type": "code",
   "execution_count": null,
   "id": "8c82f0af-d4f5-4993-920a-3113dda312b2",
   "metadata": {
    "tags": []
   },
   "outputs": [],
   "source": [
    "from sklearn.preprocessing import StandardScaler"
   ]
  },
  {
   "cell_type": "code",
   "execution_count": null,
   "id": "6a9d5e68-c9bd-4921-92cf-390be1b3a1d6",
   "metadata": {
    "tags": []
   },
   "outputs": [],
   "source": [
    "scaler = StandardScaler()\n",
    "X_enc = scaler.fit_transform(X)"
   ]
  },
  {
   "cell_type": "code",
   "execution_count": null,
   "id": "0c32d646-0ac8-4491-8202-ff41c84b41c9",
   "metadata": {
    "tags": []
   },
   "outputs": [],
   "source": [
    "from sklearn.model_selection import train_test_split"
   ]
  },
  {
   "cell_type": "code",
   "execution_count": null,
   "id": "dc146d27-163d-4e9e-918e-f33787332f76",
   "metadata": {
    "tags": []
   },
   "outputs": [],
   "source": [
    "# Modelo a entrenar ( X_enc, y_dum)\n",
    "X_train, X_test, y_train, y_test = train_test_split(X_resampled,y_resampled, test_size=0.2, random_state=101)"
   ]
  },
  {
   "cell_type": "code",
   "execution_count": null,
   "id": "9ad79bd0-28fa-48cd-9c2a-1b2399a29b9d",
   "metadata": {
    "tags": []
   },
   "outputs": [],
   "source": [
    "X.shape"
   ]
  },
  {
   "cell_type": "code",
   "execution_count": null,
   "id": "badfa54d-cbc2-404f-b245-589c98f3c9cb",
   "metadata": {
    "tags": []
   },
   "outputs": [],
   "source": [
    "y.shape"
   ]
  },
  {
   "cell_type": "markdown",
   "id": "7fcb0c8a-4fb1-419c-a240-ecd02bf02df8",
   "metadata": {},
   "source": [
    "Diseño arquitectura ANN\n",
    "---\n",
    "Input vector (4 nodos) activacion 'tanh'  \n",
    "Hidden Layer 1 (10 nodos) activacion 'tanh'  \n",
    "Hidden Layer 2 (8 nodos) activacion 'tanh'  \n",
    "Hidden Layer 3 (6 nodos) activacion 'softmax'  \n",
    "Optimizador Adam con learning rate de 0.02  "
   ]
  },
  {
   "cell_type": "code",
   "execution_count": null,
   "id": "de7d13c5-3b32-49d8-bafe-3390a1c3b99c",
   "metadata": {
    "tags": []
   },
   "outputs": [],
   "source": [
    "model=Sequential()\n",
    "model.add(Input(shape=(50,)))\n",
    "model.add(Dense(10,activation='tanh'))\n",
    "model.add(Dense(8,activation='tanh'))\n",
    "model.add(Dense(6,activation='tanh'))\n",
    "model.add(Dense(8,activation='softmax'))\n"
   ]
  },
  {
   "cell_type": "code",
   "execution_count": null,
   "id": "473885c5-35af-4ec4-b633-140b5e1dfcda",
   "metadata": {
    "tags": []
   },
   "outputs": [],
   "source": [
    "# Compilación del modelo\n",
    "optimizer = Adam(learning_rate=0.02)\n",
    "model.compile(optimizer=optimizer, loss='categorical_crossentropy', metrics=['accuracy'])\n",
    "\n",
    "# Resumen del modelo\n",
    "model.summary()"
   ]
  },
  {
   "cell_type": "code",
   "execution_count": null,
   "id": "47871bd5-71a3-415c-8fa1-1475b8ea8252",
   "metadata": {
    "tags": []
   },
   "outputs": [],
   "source": [
    "history=model.fit(X_train,y_train,batch_size=128,epochs=60,validation_data=(X_test,y_test))"
   ]
  },
  {
   "cell_type": "markdown",
   "id": "668b57d7-0020-4276-8ab6-259069127eb7",
   "metadata": {},
   "source": [
    "## Evaluación"
   ]
  },
  {
   "cell_type": "code",
   "execution_count": null,
   "id": "7f69b000-c2a4-43b5-bcef-532953bd5fb4",
   "metadata": {
    "tags": []
   },
   "outputs": [],
   "source": [
    "from sklearn.metrics import accuracy_score"
   ]
  },
  {
   "cell_type": "code",
   "execution_count": null,
   "id": "274b44a3-9a4a-4e53-a0a7-11a1eae3d4a9",
   "metadata": {
    "tags": []
   },
   "outputs": [],
   "source": [
    "y_pred=model.predict(X_test)"
   ]
  },
  {
   "cell_type": "code",
   "execution_count": null,
   "id": "b0ab3046-98c6-4e50-bb18-f9aa44ef84d4",
   "metadata": {
    "tags": []
   },
   "outputs": [],
   "source": [
    "y_pred[:5]"
   ]
  },
  {
   "cell_type": "code",
   "execution_count": null,
   "id": "ad32add7-b098-45e3-86cf-7d595f6e8dfa",
   "metadata": {
    "tags": []
   },
   "outputs": [],
   "source": [
    "y_pred_clase=np.argmax(y_pred,axis=1)\n",
    "y_test_clase=np.argmax(y_test,axis=1)"
   ]
  },
  {
   "cell_type": "code",
   "execution_count": null,
   "id": "720a40d6-0045-411a-8f12-c6bb7c4f4b02",
   "metadata": {
    "tags": []
   },
   "outputs": [],
   "source": [
    "y_pred_clase"
   ]
  },
  {
   "cell_type": "code",
   "execution_count": null,
   "id": "30ba7e64-ea06-4d23-ad8c-415fe78cefd6",
   "metadata": {
    "tags": []
   },
   "outputs": [],
   "source": [
    "y_test_clase"
   ]
  },
  {
   "cell_type": "code",
   "execution_count": null,
   "id": "d5a532cf-5aab-49de-be76-6a7d18e49397",
   "metadata": {
    "tags": []
   },
   "outputs": [],
   "source": [
    "accuracy_score(y_test_clase,y_pred_clase)"
   ]
  },
  {
   "cell_type": "code",
   "execution_count": null,
   "id": "c5c38fba-82c5-445d-9e20-1c474b5121a8",
   "metadata": {
    "tags": []
   },
   "outputs": [],
   "source": [
    "#Evolucion del entrenamiento \n",
    "#history.history"
   ]
  },
  {
   "cell_type": "code",
   "execution_count": null,
   "id": "77641db2-2fd9-4ae4-8985-6819a017027d",
   "metadata": {
    "tags": []
   },
   "outputs": [],
   "source": [
    "plt.subplot(2,1,1)\n",
    "plt.title('Train Set - Loss')\n",
    "plt.plot(history.history['loss'])\n",
    "\n",
    "plt.subplot(2,1,2)\n",
    "plt.title('Train Set - Accuracy')\n",
    "plt.plot(history.history['accuracy'])\n",
    "plt.tight_layout()"
   ]
  },
  {
   "cell_type": "code",
   "execution_count": null,
   "id": "a183388d-3dc2-4075-9d92-54bedda5844e",
   "metadata": {
    "tags": []
   },
   "outputs": [],
   "source": [
    "plt.subplot(2,1,1)\n",
    "plt.title('Validation Set - Loss')\n",
    "plt.plot(history.history['val_loss'])\n",
    "\n",
    "plt.subplot(2,1,2)\n",
    "plt.title('Validation Set - Accuracy')\n",
    "plt.plot(history.history['val_accuracy'])\n",
    "plt.tight_layout()"
   ]
  },
  {
   "cell_type": "markdown",
   "id": "092047a2-5109-45bf-b1c2-436afbf79b44",
   "metadata": {},
   "source": [
    "## Diseño 3 - Fully connected"
   ]
  },
  {
   "cell_type": "markdown",
   "id": "3a1678ea-f1c3-41de-82dd-607f623584e3",
   "metadata": {},
   "source": [
    "\n",
    "\n",
    "1.   Input vector con 50 nodos.\n",
    "2.   Hidden layer 1, 512 nodos, función de activación **ReLu**.\n",
    "3.   Capa de regularización, **dropout 0.2**.\n",
    "4.   Hidden layer 2, 512 nodos, función de activación **ReLu**.\n",
    "5.   Hidden layer 3, 8 nodos, función de activación **softmax**.\n",
    "\n",
    "con un optimizador **adam** y learning rate de 0.001.\n"
   ]
  },
  {
   "cell_type": "code",
   "execution_count": null,
   "id": "5157fc01-84c3-4d6a-b50f-4f15f42a2242",
   "metadata": {
    "tags": []
   },
   "outputs": [],
   "source": [
    "model = Sequential()\n",
    "model.add(Input(shape=(50,)))\n",
    "model.add(Dense(512, activation='relu'))\n",
    "model.add(Dropout(0.2))\n",
    "model.add(Dense(512, activation='relu'))\n",
    "model.add(Dense(8, activation='softmax'))"
   ]
  },
  {
   "cell_type": "code",
   "execution_count": null,
   "id": "442c7c46-7942-4ed9-a20e-ebd8acfae3be",
   "metadata": {
    "tags": []
   },
   "outputs": [],
   "source": [
    "model.compile(optimizer=Adam(learning_rate=0.001), loss='categorical_crossentropy', metrics=['accuracy'] )\n",
    "model.summary()"
   ]
  },
  {
   "cell_type": "code",
   "execution_count": null,
   "id": "207f8691-cca9-4dfc-84f9-85d9cb0c799e",
   "metadata": {
    "tags": []
   },
   "outputs": [],
   "source": [
    "history = model.fit(X_train, y_train, epochs=50, batch_size=128, verbose=2, validation_data=(X_test, y_test))"
   ]
  },
  {
   "cell_type": "markdown",
   "id": "68df40a1-57e7-4933-a000-97aca0a9ffa9",
   "metadata": {
    "tags": []
   },
   "source": [
    "## Evaluación"
   ]
  },
  {
   "cell_type": "code",
   "execution_count": null,
   "id": "1931e8a7-02c5-43ba-bf42-f60f151f1128",
   "metadata": {
    "tags": []
   },
   "outputs": [],
   "source": [
    "from sklearn.metrics import accuracy_score"
   ]
  },
  {
   "cell_type": "code",
   "execution_count": null,
   "id": "ac37bc2a-f4f9-412e-b283-920dcb112e9f",
   "metadata": {
    "tags": []
   },
   "outputs": [],
   "source": [
    "y_pred=model.predict(X_test)"
   ]
  },
  {
   "cell_type": "code",
   "execution_count": null,
   "id": "c7a12081-4b14-41e0-a676-f99f677b8fd9",
   "metadata": {
    "tags": []
   },
   "outputs": [],
   "source": [
    "y_pred[:5]"
   ]
  },
  {
   "cell_type": "code",
   "execution_count": null,
   "id": "79456417-ae94-41bc-80d6-cf3959e4c295",
   "metadata": {
    "tags": []
   },
   "outputs": [],
   "source": [
    "y_pred_clase=np.argmax(y_pred,axis=1)\n",
    "y_test_clase=np.argmax(y_test,axis=1)"
   ]
  },
  {
   "cell_type": "code",
   "execution_count": null,
   "id": "35b317d3-0a48-4876-9e3b-96221af95cdf",
   "metadata": {
    "tags": []
   },
   "outputs": [],
   "source": [
    "y_pred_clase"
   ]
  },
  {
   "cell_type": "code",
   "execution_count": null,
   "id": "a7a6c740-2d16-4ed3-aa78-98ec3603a5aa",
   "metadata": {
    "tags": []
   },
   "outputs": [],
   "source": [
    "y_test_clase"
   ]
  },
  {
   "cell_type": "code",
   "execution_count": null,
   "id": "1f77a862-a892-4e7f-b35a-b31a9bd8e73d",
   "metadata": {
    "tags": []
   },
   "outputs": [],
   "source": [
    "accuracy_score(y_test_clase,y_pred_clase)"
   ]
  },
  {
   "cell_type": "code",
   "execution_count": null,
   "id": "ea6cf04a-41f9-4ce5-afa8-295fc8c52555",
   "metadata": {
    "tags": []
   },
   "outputs": [],
   "source": [
    "#Evolucion del entrenamiento \n",
    "#history.history"
   ]
  },
  {
   "cell_type": "code",
   "execution_count": null,
   "id": "c29c0e5e-d091-475d-8a99-ad9cb0ad40bf",
   "metadata": {
    "tags": []
   },
   "outputs": [],
   "source": [
    "plt.subplot(2,1,1)\n",
    "plt.title('Train Set - Loss')\n",
    "plt.plot(history.history['loss'])\n",
    "\n",
    "plt.subplot(2,1,2)\n",
    "plt.title('Train Set - Accuracy')\n",
    "plt.plot(history.history['accuracy'])\n",
    "plt.tight_layout()"
   ]
  },
  {
   "cell_type": "code",
   "execution_count": null,
   "id": "0c21ea1d-70ac-4eb5-b4a0-475bc790d4d4",
   "metadata": {
    "tags": []
   },
   "outputs": [],
   "source": [
    "plt.subplot(2,1,1)\n",
    "plt.title('Validation Set - Loss')\n",
    "plt.plot(history.history['val_loss'])\n",
    "\n",
    "plt.subplot(2,1,2)\n",
    "plt.title('Validation Set - Accuracy')\n",
    "plt.plot(history.history['val_accuracy'])\n",
    "plt.tight_layout()"
   ]
  },
  {
   "cell_type": "markdown",
   "id": "5803cd30-63e6-4d6b-8a59-dc9882fcfd92",
   "metadata": {},
   "source": [
    "En el grafico de Validación del Set indica que para evitar un sobreajuste la cantidad de epoch deberia ser menor"
   ]
  },
  {
   "cell_type": "markdown",
   "id": "51a557ca-3d00-4e18-ad00-d2ab007e339c",
   "metadata": {},
   "source": [
    "## Diseño Arquitectura 4 Fully Connected Optimizador RMSPROP\n",
    "\n",
    "1.   Input vector con 50 nodos.\n",
    "2.   Hidden layer 1, 512 nodos, función de activación **ReLu**.\n",
    "3.   Capa de regularización, **dropout 0.3**.\n",
    "4.   Hidden layer 2, 512 nodos, función de activación **ReLu**.\n",
    "5.   Capa de regularización, **dropout 0.2**\n",
    "6.   Hidden layer 3, 512 nodos, función de activación **ReLu**.\n",
    "7.   Hidden layer 4, 8 nodos, función de activación **softmax**.\n",
    "\n",
    "con un optimizador **RMSprop**."
   ]
  },
  {
   "cell_type": "code",
   "execution_count": null,
   "id": "3010c063-de73-4835-8737-78edc9397db5",
   "metadata": {
    "tags": []
   },
   "outputs": [],
   "source": [
    "from tensorflow.keras.optimizers import RMSprop"
   ]
  },
  {
   "cell_type": "code",
   "execution_count": null,
   "id": "2e3d841e-f5d3-4d4d-b8d9-98d81317ccfb",
   "metadata": {
    "tags": []
   },
   "outputs": [],
   "source": [
    "model = Sequential()\n",
    "model.add(Input(shape=(50,)))\n",
    "model.add(Dense(512, activation='relu'))\n",
    "model.add(Dropout(0.3))\n",
    "model.add(Dense(512, activation='relu'))\n",
    "model.add(Dropout(0.2))\n",
    "model.add(Dense(512, activation='relu'))\n",
    "model.add(Dense(8, activation='softmax'))"
   ]
  },
  {
   "cell_type": "code",
   "execution_count": null,
   "id": "d74dbb5f-9aa6-440c-a0db-2772bf6baa67",
   "metadata": {
    "tags": []
   },
   "outputs": [],
   "source": [
    "model.compile(optimizer=RMSprop(), loss='categorical_crossentropy', metrics=['accuracy'] )\n",
    "model.summary()"
   ]
  },
  {
   "cell_type": "code",
   "execution_count": null,
   "id": "3c78e63a-9f6a-4a50-a2ef-e2a9e485e7b5",
   "metadata": {
    "tags": []
   },
   "outputs": [],
   "source": [
    "history = model.fit(X_train, y_train, epochs=40, batch_size=128, verbose=2, validation_data=(X_test, y_test))"
   ]
  },
  {
   "cell_type": "markdown",
   "id": "86460085-eada-48d5-87ef-039dd74f5990",
   "metadata": {
    "tags": []
   },
   "source": [
    "## Evaluación"
   ]
  },
  {
   "cell_type": "code",
   "execution_count": null,
   "id": "094a0a72-ab3c-43ab-8b59-21d36cfec682",
   "metadata": {
    "tags": []
   },
   "outputs": [],
   "source": [
    "from sklearn.metrics import accuracy_score"
   ]
  },
  {
   "cell_type": "code",
   "execution_count": null,
   "id": "9551eb76-f92b-46c5-a946-d4a3b0c1d715",
   "metadata": {
    "tags": []
   },
   "outputs": [],
   "source": [
    "y_pred=model.predict(X_test)"
   ]
  },
  {
   "cell_type": "code",
   "execution_count": null,
   "id": "8a448581-db8e-45ba-942e-9c38268d555f",
   "metadata": {
    "tags": []
   },
   "outputs": [],
   "source": [
    "y_pred[:5]"
   ]
  },
  {
   "cell_type": "code",
   "execution_count": null,
   "id": "1b07670b-be33-4f15-984d-41e102829631",
   "metadata": {
    "tags": []
   },
   "outputs": [],
   "source": [
    "y_pred_clase=np.argmax(y_pred,axis=1)\n",
    "y_test_clase=np.argmax(y_test,axis=1)"
   ]
  },
  {
   "cell_type": "code",
   "execution_count": null,
   "id": "e58bfb7e-ad9c-4516-ba0d-1e23bb414d9e",
   "metadata": {
    "tags": []
   },
   "outputs": [],
   "source": [
    "y_pred_clase"
   ]
  },
  {
   "cell_type": "code",
   "execution_count": null,
   "id": "744d3fdb-22ae-48aa-88ca-ffbe48a36361",
   "metadata": {
    "tags": []
   },
   "outputs": [],
   "source": [
    "y_test_clase"
   ]
  },
  {
   "cell_type": "code",
   "execution_count": null,
   "id": "963a2c70-2000-4405-b2ec-33482ede223d",
   "metadata": {
    "tags": []
   },
   "outputs": [],
   "source": [
    "accuracy_score(y_test_clase,y_pred_clase)"
   ]
  },
  {
   "cell_type": "code",
   "execution_count": null,
   "id": "b8b1e863-a3fa-4a80-90fc-6db34f739d79",
   "metadata": {
    "tags": []
   },
   "outputs": [],
   "source": [
    "#Evolucion del entrenamiento \n",
    "#history.history"
   ]
  },
  {
   "cell_type": "code",
   "execution_count": null,
   "id": "8e5aaef0-957d-4be4-8c20-ac4f5d07866b",
   "metadata": {
    "tags": []
   },
   "outputs": [],
   "source": [
    "plt.subplot(2,1,1)\n",
    "plt.title('Train Set - Loss')\n",
    "plt.plot(history.history['loss'])\n",
    "\n",
    "plt.subplot(2,1,2)\n",
    "plt.title('Train Set - Accuracy')\n",
    "plt.plot(history.history['accuracy'])\n",
    "plt.tight_layout()"
   ]
  },
  {
   "cell_type": "code",
   "execution_count": null,
   "id": "515288cc-b8d8-4a80-a886-17ab1198e30c",
   "metadata": {
    "tags": []
   },
   "outputs": [],
   "source": [
    "plt.subplot(2,1,1)\n",
    "plt.title('Validation Set - Loss')\n",
    "plt.plot(history.history['val_loss'])\n",
    "\n",
    "plt.subplot(2,1,2)\n",
    "plt.title('Validation Set - Accuracy')\n",
    "plt.plot(history.history['val_accuracy'])\n",
    "plt.tight_layout()"
   ]
  },
  {
   "cell_type": "markdown",
   "id": "d0d62383-0ffd-4672-b137-484d26887173",
   "metadata": {
    "tags": []
   },
   "source": [
    "#### Diseño Arquitectura 5: CNN"
   ]
  },
  {
   "cell_type": "code",
   "execution_count": null,
   "id": "0c0ee275-2a2f-4534-9112-b37e6d9dc623",
   "metadata": {
    "tags": []
   },
   "outputs": [],
   "source": [
    "from tensorflow.keras.models import Sequential\n",
    "from tensorflow.keras.layers import Conv1D, MaxPooling1D, Flatten, Dense"
   ]
  },
  {
   "cell_type": "code",
   "execution_count": null,
   "id": "aa7f6a06-7d96-4227-986f-10b8276b76e1",
   "metadata": {
    "tags": []
   },
   "outputs": [],
   "source": [
    "model = Sequential()\n",
    "model.add(Conv1D(32, 3, activation='relu', input_shape=(50,1))) #1\n",
    "model.add(MaxPooling1D(2))#2\n",
    "model.add(Conv1D(64, 3, activation='relu'))#3\n",
    "model.add(MaxPooling1D(2))#4\n",
    "model.add(Flatten())#5\n",
    "model.add(Dense(64, activation='relu'))#6\n",
    "model.add(Dense(8, activation='softmax'))#7"
   ]
  },
  {
   "cell_type": "code",
   "execution_count": null,
   "id": "db1caebd-1843-4c12-8c71-43e390bd5f38",
   "metadata": {
    "tags": []
   },
   "outputs": [],
   "source": [
    "model.compile(optimizer=Adam(learning_rate=0.001), loss='categorical_crossentropy', metrics=['accuracy'] )\n",
    "model.summary()"
   ]
  },
  {
   "cell_type": "code",
   "execution_count": null,
   "id": "999e0388-5dc5-48e5-8802-1df0c596c171",
   "metadata": {
    "tags": []
   },
   "outputs": [],
   "source": [
    "history = model.fit(X_train, y_train, epochs=60, batch_size=128, verbose=2, validation_data=(X_test, y_test))"
   ]
  },
  {
   "cell_type": "markdown",
   "id": "3a505141-9fe5-4bb2-bbd8-676191ef5033",
   "metadata": {
    "tags": []
   },
   "source": [
    "## Evaluación"
   ]
  },
  {
   "cell_type": "code",
   "execution_count": null,
   "id": "2a46d84c-19fa-4340-a98a-5361a76643e7",
   "metadata": {
    "tags": []
   },
   "outputs": [],
   "source": [
    "from sklearn.metrics import accuracy_score"
   ]
  },
  {
   "cell_type": "code",
   "execution_count": null,
   "id": "adabb956-35b4-4f80-a843-6d177b94057e",
   "metadata": {
    "tags": []
   },
   "outputs": [],
   "source": [
    "y_pred=model.predict(X_test)"
   ]
  },
  {
   "cell_type": "code",
   "execution_count": null,
   "id": "760a8533-c436-4d30-9c8b-cbaac1563c98",
   "metadata": {
    "tags": []
   },
   "outputs": [],
   "source": [
    "y_pred[:5]"
   ]
  },
  {
   "cell_type": "code",
   "execution_count": null,
   "id": "7cd3a851-4074-4831-ab2b-4eedeb2ded01",
   "metadata": {
    "tags": []
   },
   "outputs": [],
   "source": [
    "y_pred_clase=np.argmax(y_pred,axis=1)\n",
    "y_test_clase=np.argmax(y_test,axis=1)"
   ]
  },
  {
   "cell_type": "code",
   "execution_count": null,
   "id": "f609e015-f07c-44ce-b8c2-5a299d20dae7",
   "metadata": {
    "tags": []
   },
   "outputs": [],
   "source": [
    "y_pred_clase"
   ]
  },
  {
   "cell_type": "code",
   "execution_count": null,
   "id": "ae2b5bdd-e5fe-4e0a-86ad-564bd3a9e233",
   "metadata": {
    "tags": []
   },
   "outputs": [],
   "source": [
    "y_test_clase"
   ]
  },
  {
   "cell_type": "code",
   "execution_count": null,
   "id": "d33548ec-5ece-455d-aafc-c441baa3e7c2",
   "metadata": {
    "tags": []
   },
   "outputs": [],
   "source": [
    "accuracy_score(y_test_clase,y_pred_clase)"
   ]
  },
  {
   "cell_type": "code",
   "execution_count": null,
   "id": "ae58a6a3-d72f-4ae9-ad89-e3af7acdcfa3",
   "metadata": {
    "tags": []
   },
   "outputs": [],
   "source": [
    "#Evolucion del entrenamiento \n",
    "#history.history"
   ]
  },
  {
   "cell_type": "code",
   "execution_count": null,
   "id": "148f872d-28c7-4020-86d4-f1b6fec6d8f1",
   "metadata": {
    "tags": []
   },
   "outputs": [],
   "source": [
    "plt.subplot(2,1,1)\n",
    "plt.title('Train Set - Loss')\n",
    "plt.plot(history.history['loss'])\n",
    "\n",
    "plt.subplot(2,1,2)\n",
    "plt.title('Train Set - Accuracy')\n",
    "plt.plot(history.history['accuracy'])\n",
    "plt.tight_layout()"
   ]
  },
  {
   "cell_type": "code",
   "execution_count": null,
   "id": "7f8bc437-130b-4b31-8a82-82d84071549b",
   "metadata": {
    "tags": []
   },
   "outputs": [],
   "source": [
    "plt.subplot(2,1,1)\n",
    "plt.title('Validation Set - Loss')\n",
    "plt.plot(history.history['val_loss'])\n",
    "\n",
    "plt.subplot(2,1,2)\n",
    "plt.title('Validation Set - Accuracy')\n",
    "plt.plot(history.history['val_accuracy'])\n",
    "plt.tight_layout()"
   ]
  },
  {
   "cell_type": "markdown",
   "id": "0800638a-c2c7-4047-b8f6-be9ec7fc3aaf",
   "metadata": {},
   "source": [
    "# Conclusiones"
   ]
  },
  {
   "cell_type": "markdown",
   "id": "93583dbf-707f-4c66-81d5-ab27fdb8ad02",
   "metadata": {},
   "source": [
    "En este proyecto, se llevó a cabo el desarrollo de diversos modelos de aprendizaje automático (ML) utilizando redes neuronales recurrentes (RRNN) con el objetivo de predecir el rendimiento académico de los estudiantes. Se aplicaron técnicas de preprocesamiento y análisis exploratorio de datos, y se crearon seis modelos distintos con variaciones en sus parámetros. A continuación, se presentan los resultados obtenidos: \n",
    "\n",
    "\n",
    "\n",
    "Modelo 1:  \n",
    "\n",
    "Parámetros: 1,318   \n",
    "Exactitud (Accuracy): 0.3010752688172043    \n",
    "Tipo: Red Neuronal Artificial (ANN)    \n",
    "\n",
    "Modelo 2:  \n",
    "\n",
    "Parámetros: 708   \n",
    "Exactitud (Accuracy): 0.75   \n",
    "Tipo: Red Neuronal Artificial (ANN)    \n",
    "\n",
    "Modelo 3:  \n",
    "  \n",
    "Parámetros: 292,872    \n",
    "Exactitud (Accuracy): 0.7321428571428571  \n",
    "Tipo: Red Neuronal Artificial (ANN) - Fully Connected   \n",
    "\n",
    "Modelo 4:  \n",
    "\n",
    "\n",
    "Parámetros: 555.528    \n",
    "Exactitud (Accuracy): 0.7321428571428571   \n",
    "Tipo: Red Neuronal Artificial (ANN) - Fully Connected    \n",
    "\n",
    "Modelo 5:    \n",
    "\n",
    "\n",
    "Parámetros: 51.976    \n",
    "Exactitud (Accuracy): 0.6607142857142857   \n",
    "Tipo: Red Neuronal Convolucional (CNN)    \n",
    "\n",
    "\n",
    "A partir de los resultados obtenidos, se puede concluir que los modelos completamente conectados (Fully Connected) son los más adecuados para abordar este problema junto al segundo modelo el cuál presenta la mayor precisión a traves de los modelos entrenados. Sin embargo, no es posible determinar con certeza cuál de los tres primeros modelos es el mejor en términos de exactitud. El primer modelo tiene una precisión menor que los demás, pero al igual que el segundo diseño cuenta con una cantidad considerablemente menor de parámetros que los modelo Fully Connected. En cuanto a los modelos tercero y cuarto, a pesar de algunas diferencias en sus configuraciones, presentan un rendimiento similar.\n"
   ]
  }
 ],
 "metadata": {
  "kernelspec": {
   "display_name": "Python 3 (ipykernel)",
   "language": "python",
   "name": "python3"
  },
  "language_info": {
   "codemirror_mode": {
    "name": "ipython",
    "version": 3
   },
   "file_extension": ".py",
   "mimetype": "text/x-python",
   "name": "python",
   "nbconvert_exporter": "python",
   "pygments_lexer": "ipython3",
   "version": "3.10.9"
  }
 },
 "nbformat": 4,
 "nbformat_minor": 5
}
